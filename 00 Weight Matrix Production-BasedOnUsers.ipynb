{
 "cells": [
  {
   "cell_type": "markdown",
   "metadata": {},
   "source": [
    "### Initialization"
   ]
  },
  {
   "cell_type": "code",
   "execution_count": 1,
   "metadata": {},
   "outputs": [],
   "source": [
    "import numpy as np\n",
    "import pandas as pd\n",
    "import matplotlib as mpl\n",
    "import matplotlib.pyplot as plt\n",
    "import seaborn as sb\n",
    "from matplotlib import rcParams\n",
    "rcParams['figure.figsize'] = 10,5\n",
    "sb.set_style(style='darkgrid')\n",
    "\n",
    "from sklearn.cluster import KMeans\n",
    "from sklearn.preprocessing import StandardScaler, MinMaxScaler"
   ]
  },
  {
   "cell_type": "markdown",
   "metadata": {},
   "source": [
    "### Producing user-genre matrix, that indicates how much each user likes a genre."
   ]
  },
  {
   "cell_type": "code",
   "execution_count": 2,
   "metadata": {},
   "outputs": [],
   "source": [
    "u_cols = ['user_id', 'age', 'sex', 'occupation', 'zip_code']\n",
    "r_cols = ['user_id', 'movie_id', 'rating', 'timestamp']\n",
    "m_cols = ['movie_id', 'title', 'release_date', 'video_release_date', 'imdb_url']\n",
    "m_g_cols = ['movie_id', 'title', 'release_date', 'video_release_date', 'imdb_url', 'unknown', 'Action', 'Adventure', 'Animation'\n",
    "           , 'Children', 'Comedy','Crime', 'Documentary', 'Drama', 'Fantasy'\n",
    "           , 'Film-Noir', 'Horror', 'Musical', 'Mystery', 'Romance', 'Sci-Fi', 'Thriller', 'War', 'Western']\n",
    "\n",
    "\n",
    "data_set_path_users = \"InputData/ml-100k/u.user\"\n",
    "data_set_path_ratings = \"InputData/ml-100k/u.data\"\n",
    "data_set_path_movies = \"InputData/ml-100k/u.item\"\n",
    "users = pd.read_csv(data_set_path_users,sep='|',names = u_cols)\n",
    "ratings = pd.read_csv(data_set_path_ratings,sep='\\t', names = r_cols).drop('timestamp',axis=1)\n",
    "movies = pd.read_csv(data_set_path_movies, sep='|', names = m_cols, usecols=range(5))\n",
    "movies_genre_df = pd.read_csv(data_set_path_movies, sep='|', names = m_g_cols).drop(['title', 'release_date', 'video_release_date', 'imdb_url'],axis=1)"
   ]
  },
  {
   "cell_type": "markdown",
   "metadata": {},
   "source": [
    "### Users Demographic"
   ]
  },
  {
   "cell_type": "code",
   "execution_count": 3,
   "metadata": {},
   "outputs": [
    {
     "data": {
      "text/html": [
       "<div>\n",
       "<style scoped>\n",
       "    .dataframe tbody tr th:only-of-type {\n",
       "        vertical-align: middle;\n",
       "    }\n",
       "\n",
       "    .dataframe tbody tr th {\n",
       "        vertical-align: top;\n",
       "    }\n",
       "\n",
       "    .dataframe thead th {\n",
       "        text-align: right;\n",
       "    }\n",
       "</style>\n",
       "<table border=\"1\" class=\"dataframe\">\n",
       "  <thead>\n",
       "    <tr style=\"text-align: right;\">\n",
       "      <th></th>\n",
       "      <th>user_id</th>\n",
       "      <th>age</th>\n",
       "      <th>sex</th>\n",
       "      <th>occupation</th>\n",
       "      <th>zip_code</th>\n",
       "      <th>gender_encoded</th>\n",
       "    </tr>\n",
       "  </thead>\n",
       "  <tbody>\n",
       "    <tr>\n",
       "      <th>0</th>\n",
       "      <td>1</td>\n",
       "      <td>24</td>\n",
       "      <td>M</td>\n",
       "      <td>technician</td>\n",
       "      <td>85711</td>\n",
       "      <td>0</td>\n",
       "    </tr>\n",
       "    <tr>\n",
       "      <th>1</th>\n",
       "      <td>2</td>\n",
       "      <td>53</td>\n",
       "      <td>F</td>\n",
       "      <td>other</td>\n",
       "      <td>94043</td>\n",
       "      <td>1</td>\n",
       "    </tr>\n",
       "  </tbody>\n",
       "</table>\n",
       "</div>"
      ],
      "text/plain": [
       "   user_id  age sex  occupation zip_code  gender_encoded\n",
       "0        1   24   M  technician    85711               0\n",
       "1        2   53   F       other    94043               1"
      ]
     },
     "execution_count": 3,
     "metadata": {},
     "output_type": "execute_result"
    }
   ],
   "source": [
    "# Load the user demographic data\n",
    "user_data = pd.read_csv(data_set_path_users, sep='|', names=['user_id', 'age', 'sex', 'occupation', 'zip_code'], engine='python')\n",
    "\n",
    "# Encode gender: 0 for male (M), 1 for female (F)\n",
    "user_data['gender_encoded'] = user_data['sex'].apply(lambda x: 0 if x == 'M' else 1)\n",
    "user_data.head(2)"
   ]
  },
  {
   "cell_type": "markdown",
   "metadata": {},
   "source": [
    "### DataSource Preparation"
   ]
  },
  {
   "cell_type": "code",
   "execution_count": 4,
   "metadata": {},
   "outputs": [
    {
     "data": {
      "text/html": [
       "<div>\n",
       "<style scoped>\n",
       "    .dataframe tbody tr th:only-of-type {\n",
       "        vertical-align: middle;\n",
       "    }\n",
       "\n",
       "    .dataframe tbody tr th {\n",
       "        vertical-align: top;\n",
       "    }\n",
       "\n",
       "    .dataframe thead th {\n",
       "        text-align: right;\n",
       "    }\n",
       "</style>\n",
       "<table border=\"1\" class=\"dataframe\">\n",
       "  <thead>\n",
       "    <tr style=\"text-align: right;\">\n",
       "      <th></th>\n",
       "      <th>user_id</th>\n",
       "      <th>movie_id</th>\n",
       "      <th>rating</th>\n",
       "    </tr>\n",
       "  </thead>\n",
       "  <tbody>\n",
       "  </tbody>\n",
       "</table>\n",
       "</div>"
      ],
      "text/plain": [
       "Empty DataFrame\n",
       "Columns: [user_id, movie_id, rating]\n",
       "Index: []"
      ]
     },
     "execution_count": 4,
     "metadata": {},
     "output_type": "execute_result"
    }
   ],
   "source": [
    "# cleaning the unknown items(movie) from our data - when we have the features of the items we can wok on it\n",
    "# wherein our focosed feature is the genre of the movie so we find the movies with unknow genre and remove it from our dfs\n",
    "movie_ids_to_be_removed = list(movies_genre_df[movies_genre_df['unknown'] == 1]['movie_id'])\n",
    "for ids in movie_ids_to_be_removed:\n",
    "    ratings.drop((ratings[ratings['movie_id'] == ids]).index, inplace=True)\n",
    "    movies.drop((movies[movies['movie_id'] == ids]).index, inplace=True)\n",
    "    movies_genre_df.drop((movies_genre_df[movies_genre_df['movie_id'] == ids]).index, inplace=True)  \n",
    "# To Test run the code below\n",
    "ratings.iloc[ratings[ratings['movie_id'] == ids].index]"
   ]
  },
  {
   "cell_type": "markdown",
   "metadata": {},
   "source": [
    "### Emplifying ratings by genres\n",
    "Depicting the interest of each user for each genre"
   ]
  },
  {
   "cell_type": "code",
   "execution_count": 5,
   "metadata": {},
   "outputs": [
    {
     "data": {
      "text/plain": [
       "(943, 18)"
      ]
     },
     "execution_count": 5,
     "metadata": {},
     "output_type": "execute_result"
    }
   ],
   "source": [
    "# G : Movie-Genre Matrix\n",
    "# R : User-Movie Matrix\n",
    "# UG: User-Genre Matrix\n",
    "G = np.array(movies_genre_df.drop(['movie_id','unknown'],axis=1))\n",
    "R = np.array(pd.read_csv('InputData/R.csv').loc[:,'1':'1682'],dtype='float')\n",
    "UG = np.dot(R,G)\n",
    "UG.shape"
   ]
  },
  {
   "cell_type": "code",
   "execution_count": 6,
   "metadata": {},
   "outputs": [
    {
     "data": {
      "text/plain": [
       "(943, 20)"
      ]
     },
     "execution_count": 6,
     "metadata": {},
     "output_type": "execute_result"
    }
   ],
   "source": [
    "# Selecting features for clustering\n",
    "X = np.hstack((UG,np.array(user_data[['age', 'gender_encoded']])))\n",
    "X.shape"
   ]
  },
  {
   "cell_type": "markdown",
   "metadata": {},
   "source": [
    "### Normalize the features"
   ]
  },
  {
   "cell_type": "code",
   "execution_count": 7,
   "metadata": {},
   "outputs": [
    {
     "data": {
      "text/plain": [
       "array([[0.4789272 , 0.45220588, 0.38095238, ..., 0.30985915, 0.25757576,\n",
       "        0.        ],\n",
       "       [0.07279693, 0.04779412, 0.03809524, ..., 0.        , 0.6969697 ,\n",
       "        1.        ],\n",
       "       [0.07471264, 0.05147059, 0.        , ..., 0.        , 0.24242424,\n",
       "        0.        ],\n",
       "       ...,\n",
       "       [0.07279693, 0.09926471, 0.13333333, ..., 0.        , 0.1969697 ,\n",
       "        0.        ],\n",
       "       [0.14176245, 0.19117647, 0.18095238, ..., 0.1971831 , 0.62121212,\n",
       "        1.        ],\n",
       "       [0.4348659 , 0.41911765, 0.06666667, ..., 0.32394366, 0.22727273,\n",
       "        0.        ]])"
      ]
     },
     "execution_count": 7,
     "metadata": {},
     "output_type": "execute_result"
    }
   ],
   "source": [
    "# Initialize the scaler\n",
    "scaler = MinMaxScaler()\n",
    "#scaler = StandardScaler()   # standard normally distributed data (e.g., Gaussian with 0 mean and unit variance)\n",
    "\n",
    "X_scaled = scaler.fit_transform(X)\n",
    "# pd.DataFrame(X_scaled).to_csv('X_scaled_minmax.csv')\n",
    "X_scaled"
   ]
  },
  {
   "cell_type": "code",
   "execution_count": 8,
   "metadata": {},
   "outputs": [
    {
     "name": "stderr",
     "output_type": "stream",
     "text": [
      "e:\\Users\\Milad\\anaconda3\\lib\\site-packages\\sklearn\\cluster\\_kmeans.py:870: FutureWarning: The default value of `n_init` will change from 10 to 'auto' in 1.4. Set the value of `n_init` explicitly to suppress the warning\n",
      "  warnings.warn(\n"
     ]
    },
    {
     "data": {
      "image/png": "[encoded data removed]",
      "text/plain": [
       "<Figure size 576x360 with 1 Axes>"
      ]
     },
     "metadata": {},
     "output_type": "display_data"
    },
    {
     "data": {
      "text/html": [
       "<div>\n",
       "<style scoped>\n",
       "    .dataframe tbody tr th:only-of-type {\n",
       "        vertical-align: middle;\n",
       "    }\n",
       "\n",
       "    .dataframe tbody tr th {\n",
       "        vertical-align: top;\n",
       "    }\n",
       "\n",
       "    .dataframe thead th {\n",
       "        text-align: right;\n",
       "    }\n",
       "</style>\n",
       "<table border=\"1\" class=\"dataframe\">\n",
       "  <thead>\n",
       "    <tr style=\"text-align: right;\">\n",
       "      <th></th>\n",
       "      <th>Action</th>\n",
       "      <th>Adventure</th>\n",
       "      <th>Animation</th>\n",
       "      <th>Children</th>\n",
       "      <th>Comedy</th>\n",
       "      <th>Crime</th>\n",
       "      <th>Documentary</th>\n",
       "      <th>Drama</th>\n",
       "      <th>Fantasy</th>\n",
       "      <th>Film-Noir</th>\n",
       "      <th>Horror</th>\n",
       "      <th>Musical</th>\n",
       "      <th>Mystery</th>\n",
       "      <th>Romance</th>\n",
       "      <th>Sci-Fi</th>\n",
       "      <th>Thriller</th>\n",
       "      <th>War</th>\n",
       "      <th>Western</th>\n",
       "      <th>age</th>\n",
       "      <th>gender_encoded</th>\n",
       "    </tr>\n",
       "  </thead>\n",
       "  <tbody>\n",
       "    <tr>\n",
       "      <th>UserType1</th>\n",
       "      <td>44.869880</td>\n",
       "      <td>21.966265</td>\n",
       "      <td>4.493976</td>\n",
       "      <td>8.098795</td>\n",
       "      <td>44.426506</td>\n",
       "      <td>16.985542</td>\n",
       "      <td>1.412048</td>\n",
       "      <td>76.831325</td>\n",
       "      <td>1.445783</td>\n",
       "      <td>3.561446</td>\n",
       "      <td>7.978313</td>\n",
       "      <td>5.257831</td>\n",
       "      <td>12.402410</td>\n",
       "      <td>35.016867</td>\n",
       "      <td>23.498795</td>\n",
       "      <td>43.672289</td>\n",
       "      <td>19.653012</td>\n",
       "      <td>1.903614</td>\n",
       "      <td>35.161446</td>\n",
       "      <td>-3.330669e-16</td>\n",
       "    </tr>\n",
       "    <tr>\n",
       "      <th>UserType2</th>\n",
       "      <td>55.948617</td>\n",
       "      <td>31.549407</td>\n",
       "      <td>9.845850</td>\n",
       "      <td>20.739130</td>\n",
       "      <td>78.505929</td>\n",
       "      <td>19.624506</td>\n",
       "      <td>1.881423</td>\n",
       "      <td>121.288538</td>\n",
       "      <td>3.118577</td>\n",
       "      <td>4.241107</td>\n",
       "      <td>11.624506</td>\n",
       "      <td>14.059289</td>\n",
       "      <td>14.715415</td>\n",
       "      <td>64.628458</td>\n",
       "      <td>27.454545</td>\n",
       "      <td>55.162055</td>\n",
       "      <td>25.418972</td>\n",
       "      <td>3.450593</td>\n",
       "      <td>34.011858</td>\n",
       "      <td>1.000000e+00</td>\n",
       "    </tr>\n",
       "    <tr>\n",
       "      <th>UserType3</th>\n",
       "      <td>280.483871</td>\n",
       "      <td>161.075269</td>\n",
       "      <td>48.397849</td>\n",
       "      <td>94.000000</td>\n",
       "      <td>352.408602</td>\n",
       "      <td>87.268817</td>\n",
       "      <td>9.741935</td>\n",
       "      <td>451.483871</td>\n",
       "      <td>17.473118</td>\n",
       "      <td>22.935484</td>\n",
       "      <td>64.569892</td>\n",
       "      <td>68.473118</td>\n",
       "      <td>52.913978</td>\n",
       "      <td>210.580645</td>\n",
       "      <td>138.193548</td>\n",
       "      <td>227.086022</td>\n",
       "      <td>102.795699</td>\n",
       "      <td>28.677419</td>\n",
       "      <td>33.032258</td>\n",
       "      <td>2.150538e-01</td>\n",
       "    </tr>\n",
       "    <tr>\n",
       "      <th>UserType4</th>\n",
       "      <td>165.906593</td>\n",
       "      <td>88.494505</td>\n",
       "      <td>22.181319</td>\n",
       "      <td>36.994505</td>\n",
       "      <td>165.818681</td>\n",
       "      <td>50.153846</td>\n",
       "      <td>4.483516</td>\n",
       "      <td>233.785714</td>\n",
       "      <td>7.324176</td>\n",
       "      <td>11.604396</td>\n",
       "      <td>28.780220</td>\n",
       "      <td>29.329670</td>\n",
       "      <td>29.071429</td>\n",
       "      <td>109.972527</td>\n",
       "      <td>86.692308</td>\n",
       "      <td>129.395604</td>\n",
       "      <td>64.362637</td>\n",
       "      <td>13.016484</td>\n",
       "      <td>32.098901</td>\n",
       "      <td>-1.665335e-16</td>\n",
       "    </tr>\n",
       "  </tbody>\n",
       "</table>\n",
       "</div>"
      ],
      "text/plain": [
       "               Action   Adventure  Animation   Children      Comedy  \\\n",
       "UserType1   44.869880   21.966265   4.493976   8.098795   44.426506   \n",
       "UserType2   55.948617   31.549407   9.845850  20.739130   78.505929   \n",
       "UserType3  280.483871  161.075269  48.397849  94.000000  352.408602   \n",
       "UserType4  165.906593   88.494505  22.181319  36.994505  165.818681   \n",
       "\n",
       "               Crime  Documentary       Drama    Fantasy  Film-Noir  \\\n",
       "UserType1  16.985542     1.412048   76.831325   1.445783   3.561446   \n",
       "UserType2  19.624506     1.881423  121.288538   3.118577   4.241107   \n",
       "UserType3  87.268817     9.741935  451.483871  17.473118  22.935484   \n",
       "UserType4  50.153846     4.483516  233.785714   7.324176  11.604396   \n",
       "\n",
       "              Horror    Musical    Mystery     Romance      Sci-Fi  \\\n",
       "UserType1   7.978313   5.257831  12.402410   35.016867   23.498795   \n",
       "UserType2  11.624506  14.059289  14.715415   64.628458   27.454545   \n",
       "UserType3  64.569892  68.473118  52.913978  210.580645  138.193548   \n",
       "UserType4  28.780220  29.329670  29.071429  109.972527   86.692308   \n",
       "\n",
       "             Thriller         War    Western        age  gender_encoded  \n",
       "UserType1   43.672289   19.653012   1.903614  35.161446   -3.330669e-16  \n",
       "UserType2   55.162055   25.418972   3.450593  34.011858    1.000000e+00  \n",
       "UserType3  227.086022  102.795699  28.677419  33.032258    2.150538e-01  \n",
       "UserType4  129.395604   64.362637  13.016484  32.098901   -1.665335e-16  "
      ]
     },
     "execution_count": 8,
     "metadata": {},
     "output_type": "execute_result"
    }
   ],
   "source": [
    "# Apply K-Means clustering with 4 clusters\n",
    "kmeans = KMeans(n_clusters=4, random_state=42)\n",
    "user_data['cluster'] = kmeans.fit_predict(X_scaled)\n",
    "\n",
    "# Check the distribution of users across the clusters\n",
    "cluster_distribution = user_data['cluster'].value_counts().sort_index()\n",
    "\n",
    "# Visualize the distribution of users across clusters\n",
    "plt.figure(figsize=(8, 5))\n",
    "cluster_distribution.plot(kind='bar', color='purple')\n",
    "plt.title('Distribution of Users Across Clusters')\n",
    "plt.xlabel('Cluster')\n",
    "plt.ylabel('Number of Users')\n",
    "plt.xticks(rotation=0)\n",
    "plt.show()\n",
    "\n",
    "# Let's also explore the centroids to understand the clusters better\n",
    "centroids = pd.DataFrame(scaler.inverse_transform(kmeans.cluster_centers_), index=['UserType1', 'UserType2', 'UserType3', 'UserType4'], columns=['Action', 'Adventure', 'Animation'\n",
    "           , 'Children', 'Comedy','Crime', 'Documentary', 'Drama', 'Fantasy'\n",
    "           , 'Film-Noir', 'Horror', 'Musical', 'Mystery', 'Romance', 'Sci-Fi', 'Thriller', 'War', 'Western','age', 'gender_encoded'])\n",
    "# centroids = pd.DataFrame(scaler.inverse_transform(kmeans.cluster_centers_))\n",
    "centroids"
   ]
  },
  {
   "cell_type": "code",
   "execution_count": 9,
   "metadata": {},
   "outputs": [
    {
     "data": {
      "text/plain": [
       "0    415\n",
       "1    253\n",
       "3    182\n",
       "2     93\n",
       "Name: cluster, dtype: int64"
      ]
     },
     "execution_count": 9,
     "metadata": {},
     "output_type": "execute_result"
    }
   ],
   "source": [
    "user_data['cluster'].value_counts()"
   ]
  },
  {
   "cell_type": "code",
   "execution_count": 10,
   "metadata": {},
   "outputs": [],
   "source": [
    "user_data['user_id'] = user_data['user_id']-1"
   ]
  },
  {
   "cell_type": "code",
   "execution_count": 11,
   "metadata": {},
   "outputs": [
    {
     "data": {
      "text/html": [
       "<div>\n",
       "<style scoped>\n",
       "    .dataframe tbody tr th:only-of-type {\n",
       "        vertical-align: middle;\n",
       "    }\n",
       "\n",
       "    .dataframe tbody tr th {\n",
       "        vertical-align: top;\n",
       "    }\n",
       "\n",
       "    .dataframe thead th {\n",
       "        text-align: right;\n",
       "    }\n",
       "</style>\n",
       "<table border=\"1\" class=\"dataframe\">\n",
       "  <thead>\n",
       "    <tr style=\"text-align: right;\">\n",
       "      <th></th>\n",
       "      <th>user_id</th>\n",
       "      <th>age</th>\n",
       "      <th>sex</th>\n",
       "      <th>occupation</th>\n",
       "      <th>zip_code</th>\n",
       "      <th>gender_encoded</th>\n",
       "      <th>cluster</th>\n",
       "    </tr>\n",
       "  </thead>\n",
       "  <tbody>\n",
       "    <tr>\n",
       "      <th>0</th>\n",
       "      <td>0</td>\n",
       "      <td>24</td>\n",
       "      <td>M</td>\n",
       "      <td>technician</td>\n",
       "      <td>85711</td>\n",
       "      <td>0</td>\n",
       "      <td>3</td>\n",
       "    </tr>\n",
       "    <tr>\n",
       "      <th>5</th>\n",
       "      <td>5</td>\n",
       "      <td>42</td>\n",
       "      <td>M</td>\n",
       "      <td>executive</td>\n",
       "      <td>98101</td>\n",
       "      <td>0</td>\n",
       "      <td>3</td>\n",
       "    </tr>\n",
       "    <tr>\n",
       "      <th>9</th>\n",
       "      <td>9</td>\n",
       "      <td>53</td>\n",
       "      <td>M</td>\n",
       "      <td>lawyer</td>\n",
       "      <td>90703</td>\n",
       "      <td>0</td>\n",
       "      <td>3</td>\n",
       "    </tr>\n",
       "    <tr>\n",
       "      <th>15</th>\n",
       "      <td>15</td>\n",
       "      <td>21</td>\n",
       "      <td>M</td>\n",
       "      <td>entertainment</td>\n",
       "      <td>10309</td>\n",
       "      <td>0</td>\n",
       "      <td>3</td>\n",
       "    </tr>\n",
       "    <tr>\n",
       "      <th>20</th>\n",
       "      <td>20</td>\n",
       "      <td>26</td>\n",
       "      <td>M</td>\n",
       "      <td>writer</td>\n",
       "      <td>30068</td>\n",
       "      <td>0</td>\n",
       "      <td>3</td>\n",
       "    </tr>\n",
       "    <tr>\n",
       "      <th>...</th>\n",
       "      <td>...</td>\n",
       "      <td>...</td>\n",
       "      <td>...</td>\n",
       "      <td>...</td>\n",
       "      <td>...</td>\n",
       "      <td>...</td>\n",
       "      <td>...</td>\n",
       "    </tr>\n",
       "    <tr>\n",
       "      <th>918</th>\n",
       "      <td>918</td>\n",
       "      <td>25</td>\n",
       "      <td>M</td>\n",
       "      <td>other</td>\n",
       "      <td>14216</td>\n",
       "      <td>0</td>\n",
       "      <td>3</td>\n",
       "    </tr>\n",
       "    <tr>\n",
       "      <th>926</th>\n",
       "      <td>926</td>\n",
       "      <td>23</td>\n",
       "      <td>M</td>\n",
       "      <td>programmer</td>\n",
       "      <td>55428</td>\n",
       "      <td>0</td>\n",
       "      <td>3</td>\n",
       "    </tr>\n",
       "    <tr>\n",
       "      <th>932</th>\n",
       "      <td>932</td>\n",
       "      <td>28</td>\n",
       "      <td>M</td>\n",
       "      <td>student</td>\n",
       "      <td>48105</td>\n",
       "      <td>0</td>\n",
       "      <td>3</td>\n",
       "    </tr>\n",
       "    <tr>\n",
       "      <th>933</th>\n",
       "      <td>933</td>\n",
       "      <td>61</td>\n",
       "      <td>M</td>\n",
       "      <td>engineer</td>\n",
       "      <td>22902</td>\n",
       "      <td>0</td>\n",
       "      <td>3</td>\n",
       "    </tr>\n",
       "    <tr>\n",
       "      <th>942</th>\n",
       "      <td>942</td>\n",
       "      <td>22</td>\n",
       "      <td>M</td>\n",
       "      <td>student</td>\n",
       "      <td>77841</td>\n",
       "      <td>0</td>\n",
       "      <td>3</td>\n",
       "    </tr>\n",
       "  </tbody>\n",
       "</table>\n",
       "<p>182 rows × 7 columns</p>\n",
       "</div>"
      ],
      "text/plain": [
       "     user_id  age sex     occupation zip_code  gender_encoded  cluster\n",
       "0          0   24   M     technician    85711               0        3\n",
       "5          5   42   M      executive    98101               0        3\n",
       "9          9   53   M         lawyer    90703               0        3\n",
       "15        15   21   M  entertainment    10309               0        3\n",
       "20        20   26   M         writer    30068               0        3\n",
       "..       ...  ...  ..            ...      ...             ...      ...\n",
       "918      918   25   M          other    14216               0        3\n",
       "926      926   23   M     programmer    55428               0        3\n",
       "932      932   28   M        student    48105               0        3\n",
       "933      933   61   M       engineer    22902               0        3\n",
       "942      942   22   M        student    77841               0        3\n",
       "\n",
       "[182 rows x 7 columns]"
      ]
     },
     "execution_count": 11,
     "metadata": {},
     "output_type": "execute_result"
    }
   ],
   "source": [
    "user_data[user_data['cluster'] == 3]"
   ]
  },
  {
   "cell_type": "code",
   "execution_count": 12,
   "metadata": {},
   "outputs": [],
   "source": [
    "user_indices_of_Type =[]\n",
    "for t in range(kmeans.n_clusters):\n",
    "    user_indices_of_Type.append(list(user_data[user_data['cluster'] == t]['user_id']))"
   ]
  },
  {
   "cell_type": "code",
   "execution_count": 13,
   "metadata": {
    "scrolled": true
   },
   "outputs": [
    {
     "name": "stdout",
     "output_type": "stream",
     "text": [
      "Stored 'user_indices_of_Type' (list)\n"
     ]
    }
   ],
   "source": [
    "%store user_indices_of_Type"
   ]
  },
  {
   "cell_type": "code",
   "execution_count": 14,
   "metadata": {
    "scrolled": true
   },
   "outputs": [
    {
     "data": {
      "text/html": [
       "<div>\n",
       "<style scoped>\n",
       "    .dataframe tbody tr th:only-of-type {\n",
       "        vertical-align: middle;\n",
       "    }\n",
       "\n",
       "    .dataframe tbody tr th {\n",
       "        vertical-align: top;\n",
       "    }\n",
       "\n",
       "    .dataframe thead th {\n",
       "        text-align: right;\n",
       "    }\n",
       "</style>\n",
       "<table border=\"1\" class=\"dataframe\">\n",
       "  <thead>\n",
       "    <tr style=\"text-align: right;\">\n",
       "      <th></th>\n",
       "      <th>UserType1</th>\n",
       "      <th>UserType2</th>\n",
       "      <th>UserType3</th>\n",
       "      <th>UserType4</th>\n",
       "    </tr>\n",
       "  </thead>\n",
       "  <tbody>\n",
       "    <tr>\n",
       "      <th>Action</th>\n",
       "      <td>4.486988e+01</td>\n",
       "      <td>55.948617</td>\n",
       "      <td>280.483871</td>\n",
       "      <td>1.659066e+02</td>\n",
       "    </tr>\n",
       "    <tr>\n",
       "      <th>Adventure</th>\n",
       "      <td>2.196627e+01</td>\n",
       "      <td>31.549407</td>\n",
       "      <td>161.075269</td>\n",
       "      <td>8.849451e+01</td>\n",
       "    </tr>\n",
       "    <tr>\n",
       "      <th>Animation</th>\n",
       "      <td>4.493976e+00</td>\n",
       "      <td>9.845850</td>\n",
       "      <td>48.397849</td>\n",
       "      <td>2.218132e+01</td>\n",
       "    </tr>\n",
       "    <tr>\n",
       "      <th>Children</th>\n",
       "      <td>8.098795e+00</td>\n",
       "      <td>20.739130</td>\n",
       "      <td>94.000000</td>\n",
       "      <td>3.699451e+01</td>\n",
       "    </tr>\n",
       "    <tr>\n",
       "      <th>Comedy</th>\n",
       "      <td>4.442651e+01</td>\n",
       "      <td>78.505929</td>\n",
       "      <td>352.408602</td>\n",
       "      <td>1.658187e+02</td>\n",
       "    </tr>\n",
       "    <tr>\n",
       "      <th>Crime</th>\n",
       "      <td>1.698554e+01</td>\n",
       "      <td>19.624506</td>\n",
       "      <td>87.268817</td>\n",
       "      <td>5.015385e+01</td>\n",
       "    </tr>\n",
       "    <tr>\n",
       "      <th>Documentary</th>\n",
       "      <td>1.412048e+00</td>\n",
       "      <td>1.881423</td>\n",
       "      <td>9.741935</td>\n",
       "      <td>4.483516e+00</td>\n",
       "    </tr>\n",
       "    <tr>\n",
       "      <th>Drama</th>\n",
       "      <td>7.683133e+01</td>\n",
       "      <td>121.288538</td>\n",
       "      <td>451.483871</td>\n",
       "      <td>2.337857e+02</td>\n",
       "    </tr>\n",
       "    <tr>\n",
       "      <th>Fantasy</th>\n",
       "      <td>1.445783e+00</td>\n",
       "      <td>3.118577</td>\n",
       "      <td>17.473118</td>\n",
       "      <td>7.324176e+00</td>\n",
       "    </tr>\n",
       "    <tr>\n",
       "      <th>Film-Noir</th>\n",
       "      <td>3.561446e+00</td>\n",
       "      <td>4.241107</td>\n",
       "      <td>22.935484</td>\n",
       "      <td>1.160440e+01</td>\n",
       "    </tr>\n",
       "    <tr>\n",
       "      <th>Horror</th>\n",
       "      <td>7.978313e+00</td>\n",
       "      <td>11.624506</td>\n",
       "      <td>64.569892</td>\n",
       "      <td>2.878022e+01</td>\n",
       "    </tr>\n",
       "    <tr>\n",
       "      <th>Musical</th>\n",
       "      <td>5.257831e+00</td>\n",
       "      <td>14.059289</td>\n",
       "      <td>68.473118</td>\n",
       "      <td>2.932967e+01</td>\n",
       "    </tr>\n",
       "    <tr>\n",
       "      <th>Mystery</th>\n",
       "      <td>1.240241e+01</td>\n",
       "      <td>14.715415</td>\n",
       "      <td>52.913978</td>\n",
       "      <td>2.907143e+01</td>\n",
       "    </tr>\n",
       "    <tr>\n",
       "      <th>Romance</th>\n",
       "      <td>3.501687e+01</td>\n",
       "      <td>64.628458</td>\n",
       "      <td>210.580645</td>\n",
       "      <td>1.099725e+02</td>\n",
       "    </tr>\n",
       "    <tr>\n",
       "      <th>Sci-Fi</th>\n",
       "      <td>2.349880e+01</td>\n",
       "      <td>27.454545</td>\n",
       "      <td>138.193548</td>\n",
       "      <td>8.669231e+01</td>\n",
       "    </tr>\n",
       "    <tr>\n",
       "      <th>Thriller</th>\n",
       "      <td>4.367229e+01</td>\n",
       "      <td>55.162055</td>\n",
       "      <td>227.086022</td>\n",
       "      <td>1.293956e+02</td>\n",
       "    </tr>\n",
       "    <tr>\n",
       "      <th>War</th>\n",
       "      <td>1.965301e+01</td>\n",
       "      <td>25.418972</td>\n",
       "      <td>102.795699</td>\n",
       "      <td>6.436264e+01</td>\n",
       "    </tr>\n",
       "    <tr>\n",
       "      <th>Western</th>\n",
       "      <td>1.903614e+00</td>\n",
       "      <td>3.450593</td>\n",
       "      <td>28.677419</td>\n",
       "      <td>1.301648e+01</td>\n",
       "    </tr>\n",
       "    <tr>\n",
       "      <th>age</th>\n",
       "      <td>3.516145e+01</td>\n",
       "      <td>34.011858</td>\n",
       "      <td>33.032258</td>\n",
       "      <td>3.209890e+01</td>\n",
       "    </tr>\n",
       "    <tr>\n",
       "      <th>gender_encoded</th>\n",
       "      <td>-3.330669e-16</td>\n",
       "      <td>1.000000</td>\n",
       "      <td>0.215054</td>\n",
       "      <td>-1.665335e-16</td>\n",
       "    </tr>\n",
       "  </tbody>\n",
       "</table>\n",
       "</div>"
      ],
      "text/plain": [
       "                   UserType1   UserType2   UserType3     UserType4\n",
       "Action          4.486988e+01   55.948617  280.483871  1.659066e+02\n",
       "Adventure       2.196627e+01   31.549407  161.075269  8.849451e+01\n",
       "Animation       4.493976e+00    9.845850   48.397849  2.218132e+01\n",
       "Children        8.098795e+00   20.739130   94.000000  3.699451e+01\n",
       "Comedy          4.442651e+01   78.505929  352.408602  1.658187e+02\n",
       "Crime           1.698554e+01   19.624506   87.268817  5.015385e+01\n",
       "Documentary     1.412048e+00    1.881423    9.741935  4.483516e+00\n",
       "Drama           7.683133e+01  121.288538  451.483871  2.337857e+02\n",
       "Fantasy         1.445783e+00    3.118577   17.473118  7.324176e+00\n",
       "Film-Noir       3.561446e+00    4.241107   22.935484  1.160440e+01\n",
       "Horror          7.978313e+00   11.624506   64.569892  2.878022e+01\n",
       "Musical         5.257831e+00   14.059289   68.473118  2.932967e+01\n",
       "Mystery         1.240241e+01   14.715415   52.913978  2.907143e+01\n",
       "Romance         3.501687e+01   64.628458  210.580645  1.099725e+02\n",
       "Sci-Fi          2.349880e+01   27.454545  138.193548  8.669231e+01\n",
       "Thriller        4.367229e+01   55.162055  227.086022  1.293956e+02\n",
       "War             1.965301e+01   25.418972  102.795699  6.436264e+01\n",
       "Western         1.903614e+00    3.450593   28.677419  1.301648e+01\n",
       "age             3.516145e+01   34.011858   33.032258  3.209890e+01\n",
       "gender_encoded -3.330669e-16    1.000000    0.215054 -1.665335e-16"
      ]
     },
     "execution_count": 14,
     "metadata": {},
     "output_type": "execute_result"
    }
   ],
   "source": [
    "W_clustered = centroids.transpose()\n",
    "W_clustered"
   ]
  },
  {
   "cell_type": "code",
   "execution_count": null,
   "metadata": {},
   "outputs": [],
   "source": []
  },
  {
   "cell_type": "code",
   "execution_count": 15,
   "metadata": {},
   "outputs": [],
   "source": [
    "from sklearn.preprocessing import normalize\n",
    "\n",
    "# Normalize the matrix so that each row has a unit sum\n",
    "W_clustered_normal = normalize(W_clustered, axis=1, norm='l1')\n",
    "\n",
    "pd.DataFrame(W_clustered_normal[:-2]).to_csv('W_clustered_normal.csv')"
   ]
  },
  {
   "cell_type": "code",
   "execution_count": 16,
   "metadata": {
    "scrolled": true
   },
   "outputs": [
    {
     "data": {
      "text/plain": [
       "array([[ 8.19977061e-02,  1.02243605e-01,  5.12571780e-01,\n",
       "         3.03186909e-01],\n",
       "       [ 7.24754861e-02,  1.04094101e-01,  5.31451677e-01,\n",
       "         2.91978736e-01],\n",
       "       [ 5.29207389e-02,  1.15944023e-01,  5.69929615e-01,\n",
       "         2.61205623e-01],\n",
       "       [ 5.06705374e-02,  1.29755459e-01,  5.88115937e-01,\n",
       "         2.31458067e-01],\n",
       "       [ 6.92908565e-02,  1.22443639e-01,  5.49642456e-01,\n",
       "         2.58623049e-01],\n",
       "       [ 9.75997100e-02,  1.12763318e-01,  5.01450655e-01,\n",
       "         2.88186317e-01],\n",
       "       [ 8.06013124e-02,  1.07393754e-01,  5.56080727e-01,\n",
       "         2.55924206e-01],\n",
       "       [ 8.69733338e-02,  1.37299056e-01,  5.11081349e-01,\n",
       "         2.64646261e-01],\n",
       "       [ 4.92405202e-02,  1.06212581e-01,  5.95099925e-01,\n",
       "         2.49446974e-01],\n",
       "       [ 8.41105628e-02,  1.00162096e-01,  5.41666664e-01,\n",
       "         2.74060678e-01],\n",
       "       [ 7.06339636e-02,  1.02914602e-01,  5.71653092e-01,\n",
       "         2.54798343e-01],\n",
       "       [ 4.48927206e-02,  1.20041833e-01,  5.84641153e-01,\n",
       "         2.50424293e-01],\n",
       "       [ 1.13675914e-01,  1.34876069e-01,  4.84990020e-01,\n",
       "         2.66457997e-01],\n",
       "       [ 8.33341090e-02,  1.53804592e-01,  5.01145639e-01,\n",
       "         2.61715660e-01],\n",
       "       [ 8.51901958e-02,  9.95309796e-02,  5.00993151e-01,\n",
       "         3.14285673e-01],\n",
       "       [ 9.59164448e-02,  1.21151154e-01,  4.98743809e-01,\n",
       "         2.84188592e-01],\n",
       "       [ 9.26022822e-02,  1.19770692e-01,  4.84359156e-01,\n",
       "         3.03267870e-01],\n",
       "       [ 4.04610185e-02,  7.33417957e-02,  6.09533927e-01,\n",
       "         2.76663259e-01],\n",
       "       [ 2.61804002e-01,  2.53244435e-01,  2.45950562e-01,\n",
       "         2.39001002e-01],\n",
       "       [-2.74117012e-16,  8.23008850e-01,  1.76991150e-01,\n",
       "        -1.37058506e-16]])"
      ]
     },
     "execution_count": 16,
     "metadata": {},
     "output_type": "execute_result"
    }
   ],
   "source": [
    "W_clustered_normal"
   ]
  },
  {
   "cell_type": "code",
   "execution_count": 34,
   "metadata": {
    "collapsed": true
   },
   "outputs": [
    {
     "data": {
      "text/plain": [
       "array([[0.08199771, 0.1022436 , 0.51257178, 0.30318691],\n",
       "       [0.07247549, 0.1040941 , 0.53145168, 0.29197874],\n",
       "       [0.05292074, 0.11594402, 0.56992961, 0.26120562],\n",
       "       [0.05067054, 0.12975546, 0.58811594, 0.23145807],\n",
       "       [0.06929086, 0.12244364, 0.54964246, 0.25862305],\n",
       "       [0.09759971, 0.11276332, 0.50145066, 0.28818632],\n",
       "       [0.08060131, 0.10739375, 0.55608073, 0.25592421],\n",
       "       [0.08697333, 0.13729906, 0.51108135, 0.26464626],\n",
       "       [0.04924052, 0.10621258, 0.59509993, 0.24944697],\n",
       "       [0.08411056, 0.1001621 , 0.54166666, 0.27406068],\n",
       "       [0.07063396, 0.1029146 , 0.57165309, 0.25479834],\n",
       "       [0.04489272, 0.12004183, 0.58464115, 0.25042429],\n",
       "       [0.11367591, 0.13487607, 0.48499002, 0.266458  ],\n",
       "       [0.08333411, 0.15380459, 0.50114564, 0.26171566],\n",
       "       [0.0851902 , 0.09953098, 0.50099315, 0.31428567],\n",
       "       [0.09591644, 0.12115115, 0.49874381, 0.28418859],\n",
       "       [0.09260228, 0.11977069, 0.48435916, 0.30326787],\n",
       "       [0.04046102, 0.0733418 , 0.60953393, 0.27666326]])"
      ]
     },
     "execution_count": 34,
     "metadata": {},
     "output_type": "execute_result"
    }
   ],
   "source": [
    "W_clustered_normal[:-2]"
   ]
  },
  {
   "cell_type": "code",
   "execution_count": null,
   "metadata": {},
   "outputs": [],
   "source": []
  },
  {
   "cell_type": "code",
   "execution_count": null,
   "metadata": {},
   "outputs": [],
   "source": []
  },
  {
   "cell_type": "code",
   "execution_count": 13,
   "metadata": {},
   "outputs": [
    {
     "data": {
      "text/plain": [
       "(array([  8., 101., 197., 221., 123., 115., 111.,  36.,  23.,   8.]),\n",
       " array([ 7. , 13.6, 20.2, 26.8, 33.4, 40. , 46.6, 53.2, 59.8, 66.4, 73. ]),\n",
       " <BarContainer object of 10 artists>)"
      ]
     },
     "execution_count": 13,
     "metadata": {},
     "output_type": "execute_result"
    },
    {
     "data": {
      "image/png": "[encoded data removed]",
      "text/plain": [
       "<Figure size 720x360 with 1 Axes>"
      ]
     },
     "metadata": {},
     "output_type": "display_data"
    }
   ],
   "source": [
    "plt.hist(users[\"age\"])"
   ]
  },
  {
   "cell_type": "code",
   "execution_count": 11,
   "metadata": {},
   "outputs": [
    {
     "data": {
      "text/plain": [
       "(array([670.,   0.,   0.,   0.,   0.,   0.,   0.,   0.,   0., 273.]),\n",
       " array([0. , 0.1, 0.2, 0.3, 0.4, 0.5, 0.6, 0.7, 0.8, 0.9, 1. ]),\n",
       " <BarContainer object of 10 artists>)"
      ]
     },
     "execution_count": 11,
     "metadata": {},
     "output_type": "execute_result"
    },
    {
     "data": {
      "image/png": "[encoded data removed]",
      "text/plain": [
       "<Figure size 720x360 with 1 Axes>"
      ]
     },
     "metadata": {},
     "output_type": "display_data"
    }
   ],
   "source": [
    "plt.hist(users['sex'])"
   ]
  },
  {
   "cell_type": "code",
   "execution_count": 5,
   "metadata": {},
   "outputs": [
    {
     "data": {
      "text/html": [
       "<div>\n",
       "<style scoped>\n",
       "    .dataframe tbody tr th:only-of-type {\n",
       "        vertical-align: middle;\n",
       "    }\n",
       "\n",
       "    .dataframe tbody tr th {\n",
       "        vertical-align: top;\n",
       "    }\n",
       "\n",
       "    .dataframe thead th {\n",
       "        text-align: right;\n",
       "    }\n",
       "</style>\n",
       "<table border=\"1\" class=\"dataframe\">\n",
       "  <thead>\n",
       "    <tr style=\"text-align: right;\">\n",
       "      <th></th>\n",
       "      <th>user_id</th>\n",
       "      <th>age</th>\n",
       "      <th>sex</th>\n",
       "      <th>occupation</th>\n",
       "      <th>zip_code</th>\n",
       "    </tr>\n",
       "  </thead>\n",
       "  <tbody>\n",
       "    <tr>\n",
       "      <th>29</th>\n",
       "      <td>30</td>\n",
       "      <td>7</td>\n",
       "      <td>M</td>\n",
       "      <td>student</td>\n",
       "      <td>55436</td>\n",
       "    </tr>\n",
       "    <tr>\n",
       "      <th>470</th>\n",
       "      <td>471</td>\n",
       "      <td>10</td>\n",
       "      <td>M</td>\n",
       "      <td>student</td>\n",
       "      <td>77459</td>\n",
       "    </tr>\n",
       "    <tr>\n",
       "      <th>288</th>\n",
       "      <td>289</td>\n",
       "      <td>11</td>\n",
       "      <td>M</td>\n",
       "      <td>none</td>\n",
       "      <td>94619</td>\n",
       "    </tr>\n",
       "    <tr>\n",
       "      <th>879</th>\n",
       "      <td>880</td>\n",
       "      <td>13</td>\n",
       "      <td>M</td>\n",
       "      <td>student</td>\n",
       "      <td>83702</td>\n",
       "    </tr>\n",
       "    <tr>\n",
       "      <th>608</th>\n",
       "      <td>609</td>\n",
       "      <td>13</td>\n",
       "      <td>F</td>\n",
       "      <td>student</td>\n",
       "      <td>55106</td>\n",
       "    </tr>\n",
       "    <tr>\n",
       "      <th>...</th>\n",
       "      <td>...</td>\n",
       "      <td>...</td>\n",
       "      <td>...</td>\n",
       "      <td>...</td>\n",
       "      <td>...</td>\n",
       "    </tr>\n",
       "    <tr>\n",
       "      <th>584</th>\n",
       "      <td>585</td>\n",
       "      <td>69</td>\n",
       "      <td>M</td>\n",
       "      <td>librarian</td>\n",
       "      <td>98501</td>\n",
       "    </tr>\n",
       "    <tr>\n",
       "      <th>766</th>\n",
       "      <td>767</td>\n",
       "      <td>70</td>\n",
       "      <td>M</td>\n",
       "      <td>engineer</td>\n",
       "      <td>00000</td>\n",
       "    </tr>\n",
       "    <tr>\n",
       "      <th>802</th>\n",
       "      <td>803</td>\n",
       "      <td>70</td>\n",
       "      <td>M</td>\n",
       "      <td>administrator</td>\n",
       "      <td>78212</td>\n",
       "    </tr>\n",
       "    <tr>\n",
       "      <th>859</th>\n",
       "      <td>860</td>\n",
       "      <td>70</td>\n",
       "      <td>F</td>\n",
       "      <td>retired</td>\n",
       "      <td>48322</td>\n",
       "    </tr>\n",
       "    <tr>\n",
       "      <th>480</th>\n",
       "      <td>481</td>\n",
       "      <td>73</td>\n",
       "      <td>M</td>\n",
       "      <td>retired</td>\n",
       "      <td>37771</td>\n",
       "    </tr>\n",
       "  </tbody>\n",
       "</table>\n",
       "<p>943 rows × 5 columns</p>\n",
       "</div>"
      ],
      "text/plain": [
       "     user_id  age sex     occupation zip_code\n",
       "29        30    7   M        student    55436\n",
       "470      471   10   M        student    77459\n",
       "288      289   11   M           none    94619\n",
       "879      880   13   M        student    83702\n",
       "608      609   13   F        student    55106\n",
       "..       ...  ...  ..            ...      ...\n",
       "584      585   69   M      librarian    98501\n",
       "766      767   70   M       engineer    00000\n",
       "802      803   70   M  administrator    78212\n",
       "859      860   70   F        retired    48322\n",
       "480      481   73   M        retired    37771\n",
       "\n",
       "[943 rows x 5 columns]"
      ]
     },
     "execution_count": 5,
     "metadata": {},
     "output_type": "execute_result"
    }
   ],
   "source": [
    "users.sort_values(by='age')"
   ]
  },
  {
   "cell_type": "code",
   "execution_count": 6,
   "metadata": {},
   "outputs": [
    {
     "data": {
      "text/html": [
       "<div>\n",
       "<style scoped>\n",
       "    .dataframe tbody tr th:only-of-type {\n",
       "        vertical-align: middle;\n",
       "    }\n",
       "\n",
       "    .dataframe tbody tr th {\n",
       "        vertical-align: top;\n",
       "    }\n",
       "\n",
       "    .dataframe thead th {\n",
       "        text-align: right;\n",
       "    }\n",
       "</style>\n",
       "<table border=\"1\" class=\"dataframe\">\n",
       "  <thead>\n",
       "    <tr style=\"text-align: right;\">\n",
       "      <th></th>\n",
       "      <th>user_id</th>\n",
       "      <th>age</th>\n",
       "      <th>sex</th>\n",
       "      <th>occupation</th>\n",
       "      <th>zip_code</th>\n",
       "    </tr>\n",
       "  </thead>\n",
       "  <tbody>\n",
       "    <tr>\n",
       "      <th>0</th>\n",
       "      <td>1</td>\n",
       "      <td>24</td>\n",
       "      <td>M</td>\n",
       "      <td>technician</td>\n",
       "      <td>85711</td>\n",
       "    </tr>\n",
       "  </tbody>\n",
       "</table>\n",
       "</div>"
      ],
      "text/plain": [
       "   user_id  age sex  occupation zip_code\n",
       "0        1   24   M  technician    85711"
      ]
     },
     "execution_count": 6,
     "metadata": {},
     "output_type": "execute_result"
    }
   ],
   "source": [
    "users[users['user_id'] == 1]"
   ]
  },
  {
   "cell_type": "code",
   "execution_count": 7,
   "metadata": {
    "scrolled": true
   },
   "outputs": [
    {
     "data": {
      "text/html": [
       "<div>\n",
       "<style scoped>\n",
       "    .dataframe tbody tr th:only-of-type {\n",
       "        vertical-align: middle;\n",
       "    }\n",
       "\n",
       "    .dataframe tbody tr th {\n",
       "        vertical-align: top;\n",
       "    }\n",
       "\n",
       "    .dataframe thead th {\n",
       "        text-align: right;\n",
       "    }\n",
       "</style>\n",
       "<table border=\"1\" class=\"dataframe\">\n",
       "  <thead>\n",
       "    <tr style=\"text-align: right;\">\n",
       "      <th></th>\n",
       "      <th>user_id</th>\n",
       "      <th>movie_id</th>\n",
       "      <th>rating</th>\n",
       "    </tr>\n",
       "  </thead>\n",
       "  <tbody>\n",
       "    <tr>\n",
       "      <th>19996</th>\n",
       "      <td>1</td>\n",
       "      <td>170</td>\n",
       "      <td>5</td>\n",
       "    </tr>\n",
       "    <tr>\n",
       "      <th>7561</th>\n",
       "      <td>1</td>\n",
       "      <td>175</td>\n",
       "      <td>5</td>\n",
       "    </tr>\n",
       "    <tr>\n",
       "      <th>36844</th>\n",
       "      <td>1</td>\n",
       "      <td>119</td>\n",
       "      <td>5</td>\n",
       "    </tr>\n",
       "    <tr>\n",
       "      <th>38193</th>\n",
       "      <td>1</td>\n",
       "      <td>181</td>\n",
       "      <td>5</td>\n",
       "    </tr>\n",
       "    <tr>\n",
       "      <th>40519</th>\n",
       "      <td>1</td>\n",
       "      <td>109</td>\n",
       "      <td>5</td>\n",
       "    </tr>\n",
       "    <tr>\n",
       "      <th>...</th>\n",
       "      <td>...</td>\n",
       "      <td>...</td>\n",
       "      <td>...</td>\n",
       "    </tr>\n",
       "    <tr>\n",
       "      <th>3248</th>\n",
       "      <td>1</td>\n",
       "      <td>74</td>\n",
       "      <td>1</td>\n",
       "    </tr>\n",
       "    <tr>\n",
       "      <th>6649</th>\n",
       "      <td>1</td>\n",
       "      <td>78</td>\n",
       "      <td>1</td>\n",
       "    </tr>\n",
       "    <tr>\n",
       "      <th>39865</th>\n",
       "      <td>1</td>\n",
       "      <td>131</td>\n",
       "      <td>1</td>\n",
       "    </tr>\n",
       "    <tr>\n",
       "      <th>8745</th>\n",
       "      <td>1</td>\n",
       "      <td>259</td>\n",
       "      <td>1</td>\n",
       "    </tr>\n",
       "    <tr>\n",
       "      <th>4919</th>\n",
       "      <td>1</td>\n",
       "      <td>140</td>\n",
       "      <td>1</td>\n",
       "    </tr>\n",
       "  </tbody>\n",
       "</table>\n",
       "<p>272 rows × 3 columns</p>\n",
       "</div>"
      ],
      "text/plain": [
       "       user_id  movie_id  rating\n",
       "19996        1       170       5\n",
       "7561         1       175       5\n",
       "36844        1       119       5\n",
       "38193        1       181       5\n",
       "40519        1       109       5\n",
       "...        ...       ...     ...\n",
       "3248         1        74       1\n",
       "6649         1        78       1\n",
       "39865        1       131       1\n",
       "8745         1       259       1\n",
       "4919         1       140       1\n",
       "\n",
       "[272 rows x 3 columns]"
      ]
     },
     "execution_count": 7,
     "metadata": {},
     "output_type": "execute_result"
    }
   ],
   "source": [
    "ratings.sort_values('user_id')\n",
    "ratings[ratings['user_id'] == 1].sort_values('rating',ascending=False)"
   ]
  },
  {
   "cell_type": "code",
   "execution_count": 8,
   "metadata": {},
   "outputs": [
    {
     "data": {
      "text/html": [
       "<div>\n",
       "<style scoped>\n",
       "    .dataframe tbody tr th:only-of-type {\n",
       "        vertical-align: middle;\n",
       "    }\n",
       "\n",
       "    .dataframe tbody tr th {\n",
       "        vertical-align: top;\n",
       "    }\n",
       "\n",
       "    .dataframe thead th {\n",
       "        text-align: right;\n",
       "    }\n",
       "</style>\n",
       "<table border=\"1\" class=\"dataframe\">\n",
       "  <thead>\n",
       "    <tr style=\"text-align: right;\">\n",
       "      <th></th>\n",
       "      <th>movie_id</th>\n",
       "      <th>title</th>\n",
       "      <th>release_date</th>\n",
       "      <th>video_release_date</th>\n",
       "      <th>imdb_url</th>\n",
       "    </tr>\n",
       "  </thead>\n",
       "  <tbody>\n",
       "    <tr>\n",
       "      <th>7</th>\n",
       "      <td>8</td>\n",
       "      <td>Babe (1995)</td>\n",
       "      <td>01-Jan-1995</td>\n",
       "      <td>NaN</td>\n",
       "      <td>http://us.imdb.com/M/title-exact?Babe%20(1995)</td>\n",
       "    </tr>\n",
       "  </tbody>\n",
       "</table>\n",
       "</div>"
      ],
      "text/plain": [
       "   movie_id        title release_date  video_release_date  \\\n",
       "7         8  Babe (1995)  01-Jan-1995                 NaN   \n",
       "\n",
       "                                         imdb_url  \n",
       "7  http://us.imdb.com/M/title-exact?Babe%20(1995)  "
      ]
     },
     "execution_count": 8,
     "metadata": {},
     "output_type": "execute_result"
    }
   ],
   "source": [
    "movies[movies['movie_id'] == 8]"
   ]
  },
  {
   "cell_type": "code",
   "execution_count": 9,
   "metadata": {},
   "outputs": [
    {
     "data": {
      "text/html": [
       "<div>\n",
       "<style scoped>\n",
       "    .dataframe tbody tr th:only-of-type {\n",
       "        vertical-align: middle;\n",
       "    }\n",
       "\n",
       "    .dataframe tbody tr th {\n",
       "        vertical-align: top;\n",
       "    }\n",
       "\n",
       "    .dataframe thead th {\n",
       "        text-align: right;\n",
       "    }\n",
       "</style>\n",
       "<table border=\"1\" class=\"dataframe\">\n",
       "  <thead>\n",
       "    <tr style=\"text-align: right;\">\n",
       "      <th></th>\n",
       "      <th>movie_id</th>\n",
       "      <th>unknown</th>\n",
       "      <th>Action</th>\n",
       "      <th>Adventure</th>\n",
       "      <th>Animation</th>\n",
       "      <th>Children</th>\n",
       "      <th>Comedy</th>\n",
       "      <th>Crime</th>\n",
       "      <th>Documentary</th>\n",
       "      <th>Drama</th>\n",
       "      <th>Fantasy</th>\n",
       "      <th>Film-Noir</th>\n",
       "      <th>Horror</th>\n",
       "      <th>Musical</th>\n",
       "      <th>Mystery</th>\n",
       "      <th>Romance</th>\n",
       "      <th>Sci-Fi</th>\n",
       "      <th>Thriller</th>\n",
       "      <th>War</th>\n",
       "      <th>Western</th>\n",
       "    </tr>\n",
       "  </thead>\n",
       "  <tbody>\n",
       "    <tr>\n",
       "      <th>169</th>\n",
       "      <td>170</td>\n",
       "      <td>0</td>\n",
       "      <td>0</td>\n",
       "      <td>0</td>\n",
       "      <td>0</td>\n",
       "      <td>0</td>\n",
       "      <td>1</td>\n",
       "      <td>0</td>\n",
       "      <td>0</td>\n",
       "      <td>1</td>\n",
       "      <td>0</td>\n",
       "      <td>0</td>\n",
       "      <td>0</td>\n",
       "      <td>0</td>\n",
       "      <td>0</td>\n",
       "      <td>1</td>\n",
       "      <td>0</td>\n",
       "      <td>0</td>\n",
       "      <td>0</td>\n",
       "      <td>0</td>\n",
       "    </tr>\n",
       "  </tbody>\n",
       "</table>\n",
       "</div>"
      ],
      "text/plain": [
       "     movie_id  unknown  Action  Adventure  Animation  Children  Comedy  Crime  \\\n",
       "169       170        0       0          0          0         0       1      0   \n",
       "\n",
       "     Documentary  Drama  Fantasy  Film-Noir  Horror  Musical  Mystery  \\\n",
       "169            0      1        0          0       0        0        0   \n",
       "\n",
       "     Romance  Sci-Fi  Thriller  War  Western  \n",
       "169        1       0         0    0        0  "
      ]
     },
     "execution_count": 9,
     "metadata": {},
     "output_type": "execute_result"
    }
   ],
   "source": [
    "movies_genre_df[movies_genre_df['movie_id'] == 170]"
   ]
  },
  {
   "cell_type": "code",
   "execution_count": 13,
   "metadata": {},
   "outputs": [
    {
     "data": {
      "text/plain": [
       "movie_id       1415403\n",
       "unknown              2\n",
       "Action             251\n",
       "Adventure          135\n",
       "Animation           42\n",
       "Children           122\n",
       "Comedy             505\n",
       "Crime              109\n",
       "Documentary         50\n",
       "Drama              725\n",
       "Fantasy             22\n",
       "Film-Noir           24\n",
       "Horror              92\n",
       "Musical             56\n",
       "Mystery             61\n",
       "Romance            247\n",
       "Sci-Fi             101\n",
       "Thriller           251\n",
       "War                 71\n",
       "Western             27\n",
       "dtype: int64"
      ]
     },
     "execution_count": 13,
     "metadata": {},
     "output_type": "execute_result"
    }
   ],
   "source": [
    "movies_genre_df.sum()"
   ]
  },
  {
   "cell_type": "code",
   "execution_count": null,
   "metadata": {},
   "outputs": [],
   "source": []
  }
 ],
 "metadata": {
  "kernelspec": {
   "display_name": "Python 3",
   "language": "python",
   "name": "python3"
  },
  "language_info": {
   "codemirror_mode": {
    "name": "ipython",
    "version": 3
   },
   "file_extension": ".py",
   "mimetype": "text/x-python",
   "name": "python",
   "nbconvert_exporter": "python",
   "pygments_lexer": "ipython3",
   "version": "3.8.5"
  }
 },
 "nbformat": 4,
 "nbformat_minor": 2
}

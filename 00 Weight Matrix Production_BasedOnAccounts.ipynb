{
 "cells": [
  {
   "cell_type": "markdown",
   "metadata": {},
   "source": [
    "### Initialization"
   ]
  },
  {
   "cell_type": "code",
   "execution_count": 7,
   "metadata": {},
   "outputs": [],
   "source": [
    "import numpy as np\n",
    "import pandas as pd\n",
    "import matplotlib as mpl\n",
    "import matplotlib.pyplot as plt\n",
    "import seaborn as sb\n",
    "from matplotlib import rcParams\n",
    "rcParams['figure.figsize'] = 10,5\n",
    "sb.set_style(style='darkgrid')\n",
    "\n",
    "from sklearn.cluster import KMeans\n",
    "from sklearn.preprocessing import StandardScaler, MinMaxScaler"
   ]
  },
  {
   "cell_type": "markdown",
   "metadata": {},
   "source": [
    "### Producing user-genre matrix, that indicates how much each user likes a genre."
   ]
  },
  {
   "cell_type": "code",
   "execution_count": 17,
   "metadata": {},
   "outputs": [],
   "source": [
    "u_cols = ['user_id', 'age', 'sex', 'occupation', 'zip_code']\n",
    "r_cols = ['user_id', 'movie_id', 'rating', 'timestamp']\n",
    "m_cols = ['movie_id', 'title', 'release_date', 'video_release_date', 'imdb_url']\n",
    "m_g_cols = ['movie_id', 'title', 'release_date', 'video_release_date', 'imdb_url', 'unknown', 'Action', 'Adventure', 'Animation'\n",
    "           , 'Children', 'Comedy','Crime', 'Documentary', 'Drama', 'Fantasy'\n",
    "           , 'Film-Noir', 'Horror', 'Musical', 'Mystery', 'Romance', 'Sci-Fi', 'Thriller', 'War', 'Western']\n",
    "\n",
    "\n",
    "data_set_path_users = \"InputData/ml-100k/u.user\"\n",
    "data_set_path_ratings = \"InputData/ml-100k/u.data\"\n",
    "data_set_path_movies = \"InputData/ml-100k/u.item\"\n",
    "users = pd.read_csv(data_set_path_users,sep='|',names = u_cols)\n",
    "ratings = pd.read_csv(data_set_path_ratings,sep='\\t', names = r_cols).drop('timestamp',axis=1)\n",
    "# ratings = np.array(pd.read_csv('InputData/R_SAD_4Clusters.csv').loc[:,'0':'1679'],dtype='float')\n",
    "movies = pd.read_csv(data_set_path_movies, sep='|', names = m_cols, usecols=range(5))\n",
    "movies_genre_df = pd.read_csv(data_set_path_movies, sep='|', names = m_g_cols).drop(['title', 'release_date', 'video_release_date', 'imdb_url'],axis=1)"
   ]
  },
  {
   "cell_type": "markdown",
   "metadata": {},
   "source": [
    "### Users Demographic"
   ]
  },
  {
   "cell_type": "code",
   "execution_count": 10,
   "metadata": {},
   "outputs": [
    {
     "data": {
      "text/html": [
       "<div>\n",
       "<style scoped>\n",
       "    .dataframe tbody tr th:only-of-type {\n",
       "        vertical-align: middle;\n",
       "    }\n",
       "\n",
       "    .dataframe tbody tr th {\n",
       "        vertical-align: top;\n",
       "    }\n",
       "\n",
       "    .dataframe thead th {\n",
       "        text-align: right;\n",
       "    }\n",
       "</style>\n",
       "<table border=\"1\" class=\"dataframe\">\n",
       "  <thead>\n",
       "    <tr style=\"text-align: right;\">\n",
       "      <th></th>\n",
       "      <th>user_id</th>\n",
       "      <th>age</th>\n",
       "      <th>sex</th>\n",
       "      <th>occupation</th>\n",
       "      <th>zip_code</th>\n",
       "      <th>gender_encoded</th>\n",
       "    </tr>\n",
       "  </thead>\n",
       "  <tbody>\n",
       "    <tr>\n",
       "      <th>0</th>\n",
       "      <td>1</td>\n",
       "      <td>24</td>\n",
       "      <td>M</td>\n",
       "      <td>technician</td>\n",
       "      <td>85711</td>\n",
       "      <td>0</td>\n",
       "    </tr>\n",
       "    <tr>\n",
       "      <th>1</th>\n",
       "      <td>2</td>\n",
       "      <td>53</td>\n",
       "      <td>F</td>\n",
       "      <td>other</td>\n",
       "      <td>94043</td>\n",
       "      <td>1</td>\n",
       "    </tr>\n",
       "  </tbody>\n",
       "</table>\n",
       "</div>"
      ],
      "text/plain": [
       "   user_id  age sex  occupation zip_code  gender_encoded\n",
       "0        1   24   M  technician    85711               0\n",
       "1        2   53   F       other    94043               1"
      ]
     },
     "execution_count": 10,
     "metadata": {},
     "output_type": "execute_result"
    }
   ],
   "source": [
    "# Load the user demographic data\n",
    "user_data = pd.read_csv(data_set_path_users, sep='|', names=['user_id', 'age', 'sex', 'occupation', 'zip_code'], engine='python')\n",
    "\n",
    "# Encode gender: 0 for male (M), 1 for female (F)\n",
    "user_data['gender_encoded'] = user_data['sex'].apply(lambda x: 0 if x == 'M' else 1)\n",
    "user_data.head(2)"
   ]
  },
  {
   "cell_type": "code",
   "execution_count": 60,
   "metadata": {},
   "outputs": [],
   "source": [
    "user_data = pd.DataFrame()"
   ]
  },
  {
   "cell_type": "markdown",
   "metadata": {},
   "source": [
    "### DataSource Preparation"
   ]
  },
  {
   "cell_type": "markdown",
   "metadata": {},
   "source": [
    "### Emplifying ratings by genres\n",
    "Depicting the interest of each user for each genre"
   ]
  },
  {
   "cell_type": "code",
   "execution_count": 18,
   "metadata": {},
   "outputs": [
    {
     "data": {
      "text/html": [
       "<div>\n",
       "<style scoped>\n",
       "    .dataframe tbody tr th:only-of-type {\n",
       "        vertical-align: middle;\n",
       "    }\n",
       "\n",
       "    .dataframe tbody tr th {\n",
       "        vertical-align: top;\n",
       "    }\n",
       "\n",
       "    .dataframe thead th {\n",
       "        text-align: right;\n",
       "    }\n",
       "</style>\n",
       "<table border=\"1\" class=\"dataframe\">\n",
       "  <thead>\n",
       "    <tr style=\"text-align: right;\">\n",
       "      <th></th>\n",
       "      <th>user_id</th>\n",
       "      <th>movie_id</th>\n",
       "      <th>rating</th>\n",
       "    </tr>\n",
       "  </thead>\n",
       "  <tbody>\n",
       "  </tbody>\n",
       "</table>\n",
       "</div>"
      ],
      "text/plain": [
       "Empty DataFrame\n",
       "Columns: [user_id, movie_id, rating]\n",
       "Index: []"
      ]
     },
     "execution_count": 18,
     "metadata": {},
     "output_type": "execute_result"
    }
   ],
   "source": [
    "# cleaning the unknown items(movie) from our data - when we have the features of the items we can wok on it\n",
    "# wherein our focosed feature is the genre of the movie so we find the movies with unknow genre and remove it from our dfs\n",
    "movie_ids_to_be_removed = list(movies_genre_df[movies_genre_df['unknown'] == 1]['movie_id'])\n",
    "for ids in movie_ids_to_be_removed:\n",
    "    ratings.drop((ratings[ratings['movie_id'] == ids]).index, inplace=True)\n",
    "    movies.drop((movies[movies['movie_id'] == ids]).index, inplace=True)\n",
    "    movies_genre_df.drop((movies_genre_df[movies_genre_df['movie_id'] == ids]).index, inplace=True)  \n",
    "# To Test run the code below\n",
    "ratings.iloc[ratings[ratings['movie_id'] == ids].index]"
   ]
  },
  {
   "cell_type": "code",
   "execution_count": 19,
   "metadata": {},
   "outputs": [
    {
     "data": {
      "text/plain": [
       "(784, 18)"
      ]
     },
     "execution_count": 19,
     "metadata": {},
     "output_type": "execute_result"
    }
   ],
   "source": [
    "# G : Movie-Genre Matrix\n",
    "# R : User-Movie Matrix\n",
    "# UG: User-Genre Matrix\n",
    "G = np.array(movies_genre_df.drop(['movie_id','unknown'],axis=1))\n",
    "# R = np.array(pd.read_csv('InputData/R.csv').loc[:,'1':'1682'],dtype='float')\n",
    "R = np.array(pd.read_csv('InputData/R_SAD_4Clusters.csv').loc[:,'0':'1679'],dtype='float')\n",
    "UG = np.dot(R,G)\n",
    "UG.shape"
   ]
  },
  {
   "cell_type": "code",
   "execution_count": 22,
   "metadata": {},
   "outputs": [
    {
     "data": {
      "text/plain": [
       "((1680, 18), (784, 1680))"
      ]
     },
     "execution_count": 22,
     "metadata": {},
     "output_type": "execute_result"
    }
   ],
   "source": [
    "G.shape, R.shape"
   ]
  },
  {
   "cell_type": "code",
   "execution_count": 23,
   "metadata": {
    "collapsed": true
   },
   "outputs": [
    {
     "ename": "ValueError",
     "evalue": "all the input array dimensions for the concatenation axis must match exactly, but along dimension 0, the array at index 0 has size 784 and the array at index 1 has size 943",
     "output_type": "error",
     "traceback": [
      "\u001b[1;31m---------------------------------------------------------------------------\u001b[0m",
      "\u001b[1;31mValueError\u001b[0m                                Traceback (most recent call last)",
      "\u001b[1;32m<ipython-input-23-27dccb767371>\u001b[0m in \u001b[0;36m<module>\u001b[1;34m\u001b[0m\n\u001b[0;32m      1\u001b[0m \u001b[1;31m# Selecting features for clustering\u001b[0m\u001b[1;33m\u001b[0m\u001b[1;33m\u001b[0m\u001b[1;33m\u001b[0m\u001b[0m\n\u001b[1;32m----> 2\u001b[1;33m \u001b[0mX\u001b[0m \u001b[1;33m=\u001b[0m \u001b[0mnp\u001b[0m\u001b[1;33m.\u001b[0m\u001b[0mhstack\u001b[0m\u001b[1;33m(\u001b[0m\u001b[1;33m(\u001b[0m\u001b[0mUG\u001b[0m\u001b[1;33m,\u001b[0m\u001b[0mnp\u001b[0m\u001b[1;33m.\u001b[0m\u001b[0marray\u001b[0m\u001b[1;33m(\u001b[0m\u001b[0muser_data\u001b[0m\u001b[1;33m[\u001b[0m\u001b[1;33m[\u001b[0m\u001b[1;34m'age'\u001b[0m\u001b[1;33m,\u001b[0m \u001b[1;34m'gender_encoded'\u001b[0m\u001b[1;33m]\u001b[0m\u001b[1;33m]\u001b[0m\u001b[1;33m)\u001b[0m\u001b[1;33m)\u001b[0m\u001b[1;33m)\u001b[0m\u001b[1;33m\u001b[0m\u001b[1;33m\u001b[0m\u001b[0m\n\u001b[0m\u001b[0;32m      3\u001b[0m \u001b[0mX\u001b[0m\u001b[1;33m.\u001b[0m\u001b[0mshape\u001b[0m\u001b[1;33m\u001b[0m\u001b[1;33m\u001b[0m\u001b[0m\n",
      "\u001b[1;32m<__array_function__ internals>\u001b[0m in \u001b[0;36mhstack\u001b[1;34m(*args, **kwargs)\u001b[0m\n",
      "\u001b[1;32me:\\Users\\Milad\\anaconda3\\lib\\site-packages\\numpy\\core\\shape_base.py\u001b[0m in \u001b[0;36mhstack\u001b[1;34m(tup)\u001b[0m\n\u001b[0;32m    344\u001b[0m         \u001b[1;32mreturn\u001b[0m \u001b[0m_nx\u001b[0m\u001b[1;33m.\u001b[0m\u001b[0mconcatenate\u001b[0m\u001b[1;33m(\u001b[0m\u001b[0marrs\u001b[0m\u001b[1;33m,\u001b[0m \u001b[1;36m0\u001b[0m\u001b[1;33m)\u001b[0m\u001b[1;33m\u001b[0m\u001b[1;33m\u001b[0m\u001b[0m\n\u001b[0;32m    345\u001b[0m     \u001b[1;32melse\u001b[0m\u001b[1;33m:\u001b[0m\u001b[1;33m\u001b[0m\u001b[1;33m\u001b[0m\u001b[0m\n\u001b[1;32m--> 346\u001b[1;33m         \u001b[1;32mreturn\u001b[0m \u001b[0m_nx\u001b[0m\u001b[1;33m.\u001b[0m\u001b[0mconcatenate\u001b[0m\u001b[1;33m(\u001b[0m\u001b[0marrs\u001b[0m\u001b[1;33m,\u001b[0m \u001b[1;36m1\u001b[0m\u001b[1;33m)\u001b[0m\u001b[1;33m\u001b[0m\u001b[1;33m\u001b[0m\u001b[0m\n\u001b[0m\u001b[0;32m    347\u001b[0m \u001b[1;33m\u001b[0m\u001b[0m\n\u001b[0;32m    348\u001b[0m \u001b[1;33m\u001b[0m\u001b[0m\n",
      "\u001b[1;32m<__array_function__ internals>\u001b[0m in \u001b[0;36mconcatenate\u001b[1;34m(*args, **kwargs)\u001b[0m\n",
      "\u001b[1;31mValueError\u001b[0m: all the input array dimensions for the concatenation axis must match exactly, but along dimension 0, the array at index 0 has size 784 and the array at index 1 has size 943"
     ]
    }
   ],
   "source": [
    "# Selecting features for clustering\n",
    "X = np.hstack((UG,np.array(user_data[['age', 'gender_encoded']])))\n",
    "X.shape"
   ]
  },
  {
   "cell_type": "markdown",
   "metadata": {},
   "source": [
    "### Normalize the features"
   ]
  },
  {
   "cell_type": "code",
   "execution_count": 24,
   "metadata": {},
   "outputs": [
    {
     "data": {
      "text/plain": [
       "array([[0.29868421, 0.31843575, 0.05882353, ..., 0.22075783, 0.22649573,\n",
       "        0.32394366],\n",
       "       [0.03552632, 0.00558659, 0.03361345, ..., 0.0708402 , 0.05982906,\n",
       "        0.        ],\n",
       "       [0.675     , 0.72067039, 0.67226891, ..., 0.51565074, 0.41452991,\n",
       "        0.38028169],\n",
       "       ...,\n",
       "       [0.05921053, 0.06145251, 0.01680672, ..., 0.08896211, 0.12820513,\n",
       "        0.04225352],\n",
       "       [0.05394737, 0.03072626, 0.        , ..., 0.08566722, 0.05555556,\n",
       "        0.        ],\n",
       "       [0.08289474, 0.13687151, 0.        , ..., 0.16144975, 0.18803419,\n",
       "        0.        ]])"
      ]
     },
     "execution_count": 24,
     "metadata": {},
     "output_type": "execute_result"
    }
   ],
   "source": [
    "# Initialize the scaler\n",
    "scaler = MinMaxScaler()\n",
    "#scaler = StandardScaler()   # standard normally distributed data (e.g., Gaussian with 0 mean and unit variance)\n",
    "\n",
    "X_scaled = scaler.fit_transform(UG)\n",
    "# pd.DataFrame(X_scaled).to_csv('X_scaled_minmax.csv')\n",
    "X_scaled"
   ]
  },
  {
   "cell_type": "code",
   "execution_count": 74,
   "metadata": {},
   "outputs": [
    {
     "name": "stderr",
     "output_type": "stream",
     "text": [
      "e:\\Users\\Milad\\anaconda3\\lib\\site-packages\\sklearn\\cluster\\_kmeans.py:870: FutureWarning: The default value of `n_init` will change from 10 to 'auto' in 1.4. Set the value of `n_init` explicitly to suppress the warning\n",
      "  warnings.warn(\n"
     ]
    },
    {
     "data": {
      "image/png": "[encoded data removed]",
      "text/plain": [
       "<Figure size 576x360 with 1 Axes>"
      ]
     },
     "metadata": {},
     "output_type": "display_data"
    },
    {
     "data": {
      "text/html": [
       "<div>\n",
       "<style scoped>\n",
       "    .dataframe tbody tr th:only-of-type {\n",
       "        vertical-align: middle;\n",
       "    }\n",
       "\n",
       "    .dataframe tbody tr th {\n",
       "        vertical-align: top;\n",
       "    }\n",
       "\n",
       "    .dataframe thead th {\n",
       "        text-align: right;\n",
       "    }\n",
       "</style>\n",
       "<table border=\"1\" class=\"dataframe\">\n",
       "  <thead>\n",
       "    <tr style=\"text-align: right;\">\n",
       "      <th></th>\n",
       "      <th>Action</th>\n",
       "      <th>Adventure</th>\n",
       "      <th>Animation</th>\n",
       "      <th>Children</th>\n",
       "      <th>Comedy</th>\n",
       "      <th>Crime</th>\n",
       "      <th>Documentary</th>\n",
       "      <th>Drama</th>\n",
       "      <th>Fantasy</th>\n",
       "      <th>Film-Noir</th>\n",
       "      <th>Horror</th>\n",
       "      <th>Musical</th>\n",
       "      <th>Mystery</th>\n",
       "      <th>Romance</th>\n",
       "      <th>Sci-Fi</th>\n",
       "      <th>Thriller</th>\n",
       "      <th>War</th>\n",
       "      <th>Western</th>\n",
       "    </tr>\n",
       "  </thead>\n",
       "  <tbody>\n",
       "    <tr>\n",
       "      <th>AccountType1</th>\n",
       "      <td>43.320755</td>\n",
       "      <td>20.872117</td>\n",
       "      <td>4.194969</td>\n",
       "      <td>8.259958</td>\n",
       "      <td>44.249476</td>\n",
       "      <td>16.660377</td>\n",
       "      <td>1.287212</td>\n",
       "      <td>77.452830</td>\n",
       "      <td>1.394130</td>\n",
       "      <td>3.392034</td>\n",
       "      <td>7.821803</td>\n",
       "      <td>5.144654</td>\n",
       "      <td>12.287212</td>\n",
       "      <td>36.538784</td>\n",
       "      <td>21.557652</td>\n",
       "      <td>43.454927</td>\n",
       "      <td>18.842767</td>\n",
       "      <td>1.763103</td>\n",
       "    </tr>\n",
       "    <tr>\n",
       "      <th>AccountType2</th>\n",
       "      <td>153.535714</td>\n",
       "      <td>85.443878</td>\n",
       "      <td>23.744898</td>\n",
       "      <td>42.020408</td>\n",
       "      <td>172.132653</td>\n",
       "      <td>47.295918</td>\n",
       "      <td>4.285714</td>\n",
       "      <td>245.448980</td>\n",
       "      <td>7.673469</td>\n",
       "      <td>10.892857</td>\n",
       "      <td>26.831633</td>\n",
       "      <td>32.168367</td>\n",
       "      <td>29.219388</td>\n",
       "      <td>119.739796</td>\n",
       "      <td>81.107143</td>\n",
       "      <td>123.423469</td>\n",
       "      <td>61.923469</td>\n",
       "      <td>11.602041</td>\n",
       "    </tr>\n",
       "    <tr>\n",
       "      <th>AccountType3</th>\n",
       "      <td>441.604651</td>\n",
       "      <td>241.209302</td>\n",
       "      <td>61.511628</td>\n",
       "      <td>124.697674</td>\n",
       "      <td>541.651163</td>\n",
       "      <td>141.744186</td>\n",
       "      <td>16.813953</td>\n",
       "      <td>727.581395</td>\n",
       "      <td>25.534884</td>\n",
       "      <td>37.953488</td>\n",
       "      <td>110.139535</td>\n",
       "      <td>94.209302</td>\n",
       "      <td>89.139535</td>\n",
       "      <td>343.604651</td>\n",
       "      <td>219.837209</td>\n",
       "      <td>375.581395</td>\n",
       "      <td>162.209302</td>\n",
       "      <td>40.093023</td>\n",
       "    </tr>\n",
       "    <tr>\n",
       "      <th>AccountType4</th>\n",
       "      <td>283.970588</td>\n",
       "      <td>163.367647</td>\n",
       "      <td>52.852941</td>\n",
       "      <td>96.250000</td>\n",
       "      <td>339.941176</td>\n",
       "      <td>87.441176</td>\n",
       "      <td>8.926471</td>\n",
       "      <td>452.485294</td>\n",
       "      <td>15.882353</td>\n",
       "      <td>20.750000</td>\n",
       "      <td>55.426471</td>\n",
       "      <td>68.161765</td>\n",
       "      <td>53.838235</td>\n",
       "      <td>217.779412</td>\n",
       "      <td>142.573529</td>\n",
       "      <td>230.588235</td>\n",
       "      <td>114.132353</td>\n",
       "      <td>27.352941</td>\n",
       "    </tr>\n",
       "  </tbody>\n",
       "</table>\n",
       "</div>"
      ],
      "text/plain": [
       "                  Action   Adventure  Animation    Children      Comedy  \\\n",
       "AccountType1   43.320755   20.872117   4.194969    8.259958   44.249476   \n",
       "AccountType2  153.535714   85.443878  23.744898   42.020408  172.132653   \n",
       "AccountType3  441.604651  241.209302  61.511628  124.697674  541.651163   \n",
       "AccountType4  283.970588  163.367647  52.852941   96.250000  339.941176   \n",
       "\n",
       "                   Crime  Documentary       Drama    Fantasy  Film-Noir  \\\n",
       "AccountType1   16.660377     1.287212   77.452830   1.394130   3.392034   \n",
       "AccountType2   47.295918     4.285714  245.448980   7.673469  10.892857   \n",
       "AccountType3  141.744186    16.813953  727.581395  25.534884  37.953488   \n",
       "AccountType4   87.441176     8.926471  452.485294  15.882353  20.750000   \n",
       "\n",
       "                  Horror    Musical    Mystery     Romance      Sci-Fi  \\\n",
       "AccountType1    7.821803   5.144654  12.287212   36.538784   21.557652   \n",
       "AccountType2   26.831633  32.168367  29.219388  119.739796   81.107143   \n",
       "AccountType3  110.139535  94.209302  89.139535  343.604651  219.837209   \n",
       "AccountType4   55.426471  68.161765  53.838235  217.779412  142.573529   \n",
       "\n",
       "                Thriller         War    Western  \n",
       "AccountType1   43.454927   18.842767   1.763103  \n",
       "AccountType2  123.423469   61.923469  11.602041  \n",
       "AccountType3  375.581395  162.209302  40.093023  \n",
       "AccountType4  230.588235  114.132353  27.352941  "
      ]
     },
     "execution_count": 74,
     "metadata": {},
     "output_type": "execute_result"
    }
   ],
   "source": [
    "# Apply K-Means clustering with 4 clusters\n",
    "kmeans = KMeans(n_clusters=4, random_state=42)\n",
    "user_data['cluster'] = kmeans.fit_predict(X_scaled)\n",
    "\n",
    "# Check the distribution of users across the clusters\n",
    "cluster_distribution = user_data['cluster'].value_counts().sort_index()\n",
    "\n",
    "# Visualize the distribution of users across clusters\n",
    "plt.figure(figsize=(8, 5))\n",
    "cluster_distribution.plot(kind='bar', color='purple')\n",
    "plt.title('Distribution of Users Across Clusters')\n",
    "plt.xlabel('Cluster')\n",
    "plt.ylabel('Number of Users')\n",
    "plt.xticks(rotation=0)\n",
    "plt.show()\n",
    "\n",
    "# Let's also explore the centroids to understand the clusters better\n",
    "centroids = pd.DataFrame(scaler.inverse_transform(kmeans.cluster_centers_), index=['AccountType1', 'AccountType2', 'AccountType3', 'AccountType4'], columns=['Action', 'Adventure', 'Animation'\n",
    "           , 'Children', 'Comedy','Crime', 'Documentary', 'Drama', 'Fantasy'\n",
    "           , 'Film-Noir', 'Horror', 'Musical', 'Mystery', 'Romance', 'Sci-Fi', 'Thriller', 'War', 'Western'])\n",
    "# centroids = pd.DataFrame(scaler.inverse_transform(kmeans.cluster_centers_))\n",
    "centroids"
   ]
  },
  {
   "cell_type": "code",
   "execution_count": 75,
   "metadata": {},
   "outputs": [
    {
     "data": {
      "text/plain": [
       "0    477\n",
       "1    196\n",
       "3     68\n",
       "2     43\n",
       "Name: cluster, dtype: int64"
      ]
     },
     "execution_count": 75,
     "metadata": {},
     "output_type": "execute_result"
    }
   ],
   "source": [
    "user_data['cluster'].value_counts()"
   ]
  },
  {
   "cell_type": "code",
   "execution_count": 76,
   "metadata": {},
   "outputs": [],
   "source": [
    "# user_data.reset_index(inplace=True)\n",
    "user_data.rename(columns={'index':'account index'},inplace=True)"
   ]
  },
  {
   "cell_type": "code",
   "execution_count": 77,
   "metadata": {},
   "outputs": [
    {
     "data": {
      "text/html": [
       "<div>\n",
       "<style scoped>\n",
       "    .dataframe tbody tr th:only-of-type {\n",
       "        vertical-align: middle;\n",
       "    }\n",
       "\n",
       "    .dataframe tbody tr th {\n",
       "        vertical-align: top;\n",
       "    }\n",
       "\n",
       "    .dataframe thead th {\n",
       "        text-align: right;\n",
       "    }\n",
       "</style>\n",
       "<table border=\"1\" class=\"dataframe\">\n",
       "  <thead>\n",
       "    <tr style=\"text-align: right;\">\n",
       "      <th></th>\n",
       "      <th>account index</th>\n",
       "      <th>cluster</th>\n",
       "    </tr>\n",
       "  </thead>\n",
       "  <tbody>\n",
       "    <tr>\n",
       "      <th>0</th>\n",
       "      <td>0</td>\n",
       "      <td>1</td>\n",
       "    </tr>\n",
       "    <tr>\n",
       "      <th>1</th>\n",
       "      <td>1</td>\n",
       "      <td>0</td>\n",
       "    </tr>\n",
       "    <tr>\n",
       "      <th>2</th>\n",
       "      <td>2</td>\n",
       "      <td>2</td>\n",
       "    </tr>\n",
       "    <tr>\n",
       "      <th>3</th>\n",
       "      <td>3</td>\n",
       "      <td>0</td>\n",
       "    </tr>\n",
       "    <tr>\n",
       "      <th>4</th>\n",
       "      <td>4</td>\n",
       "      <td>0</td>\n",
       "    </tr>\n",
       "    <tr>\n",
       "      <th>...</th>\n",
       "      <td>...</td>\n",
       "      <td>...</td>\n",
       "    </tr>\n",
       "    <tr>\n",
       "      <th>779</th>\n",
       "      <td>779</td>\n",
       "      <td>2</td>\n",
       "    </tr>\n",
       "    <tr>\n",
       "      <th>780</th>\n",
       "      <td>780</td>\n",
       "      <td>3</td>\n",
       "    </tr>\n",
       "    <tr>\n",
       "      <th>781</th>\n",
       "      <td>781</td>\n",
       "      <td>0</td>\n",
       "    </tr>\n",
       "    <tr>\n",
       "      <th>782</th>\n",
       "      <td>782</td>\n",
       "      <td>0</td>\n",
       "    </tr>\n",
       "    <tr>\n",
       "      <th>783</th>\n",
       "      <td>783</td>\n",
       "      <td>0</td>\n",
       "    </tr>\n",
       "  </tbody>\n",
       "</table>\n",
       "<p>784 rows × 2 columns</p>\n",
       "</div>"
      ],
      "text/plain": [
       "     account index  cluster\n",
       "0                0        1\n",
       "1                1        0\n",
       "2                2        2\n",
       "3                3        0\n",
       "4                4        0\n",
       "..             ...      ...\n",
       "779            779        2\n",
       "780            780        3\n",
       "781            781        0\n",
       "782            782        0\n",
       "783            783        0\n",
       "\n",
       "[784 rows x 2 columns]"
      ]
     },
     "execution_count": 77,
     "metadata": {},
     "output_type": "execute_result"
    }
   ],
   "source": [
    "user_data"
   ]
  },
  {
   "cell_type": "code",
   "execution_count": 78,
   "metadata": {},
   "outputs": [
    {
     "data": {
      "text/html": [
       "<div>\n",
       "<style scoped>\n",
       "    .dataframe tbody tr th:only-of-type {\n",
       "        vertical-align: middle;\n",
       "    }\n",
       "\n",
       "    .dataframe tbody tr th {\n",
       "        vertical-align: top;\n",
       "    }\n",
       "\n",
       "    .dataframe thead th {\n",
       "        text-align: right;\n",
       "    }\n",
       "</style>\n",
       "<table border=\"1\" class=\"dataframe\">\n",
       "  <thead>\n",
       "    <tr style=\"text-align: right;\">\n",
       "      <th></th>\n",
       "      <th>account index</th>\n",
       "      <th>cluster</th>\n",
       "    </tr>\n",
       "  </thead>\n",
       "  <tbody>\n",
       "    <tr>\n",
       "      <th>30</th>\n",
       "      <td>30</td>\n",
       "      <td>3</td>\n",
       "    </tr>\n",
       "    <tr>\n",
       "      <th>33</th>\n",
       "      <td>33</td>\n",
       "      <td>3</td>\n",
       "    </tr>\n",
       "    <tr>\n",
       "      <th>39</th>\n",
       "      <td>39</td>\n",
       "      <td>3</td>\n",
       "    </tr>\n",
       "    <tr>\n",
       "      <th>49</th>\n",
       "      <td>49</td>\n",
       "      <td>3</td>\n",
       "    </tr>\n",
       "    <tr>\n",
       "      <th>65</th>\n",
       "      <td>65</td>\n",
       "      <td>3</td>\n",
       "    </tr>\n",
       "    <tr>\n",
       "      <th>...</th>\n",
       "      <td>...</td>\n",
       "      <td>...</td>\n",
       "    </tr>\n",
       "    <tr>\n",
       "      <th>739</th>\n",
       "      <td>739</td>\n",
       "      <td>3</td>\n",
       "    </tr>\n",
       "    <tr>\n",
       "      <th>745</th>\n",
       "      <td>745</td>\n",
       "      <td>3</td>\n",
       "    </tr>\n",
       "    <tr>\n",
       "      <th>749</th>\n",
       "      <td>749</td>\n",
       "      <td>3</td>\n",
       "    </tr>\n",
       "    <tr>\n",
       "      <th>770</th>\n",
       "      <td>770</td>\n",
       "      <td>3</td>\n",
       "    </tr>\n",
       "    <tr>\n",
       "      <th>780</th>\n",
       "      <td>780</td>\n",
       "      <td>3</td>\n",
       "    </tr>\n",
       "  </tbody>\n",
       "</table>\n",
       "<p>68 rows × 2 columns</p>\n",
       "</div>"
      ],
      "text/plain": [
       "     account index  cluster\n",
       "30              30        3\n",
       "33              33        3\n",
       "39              39        3\n",
       "49              49        3\n",
       "65              65        3\n",
       "..             ...      ...\n",
       "739            739        3\n",
       "745            745        3\n",
       "749            749        3\n",
       "770            770        3\n",
       "780            780        3\n",
       "\n",
       "[68 rows x 2 columns]"
      ]
     },
     "execution_count": 78,
     "metadata": {},
     "output_type": "execute_result"
    }
   ],
   "source": [
    "user_data[user_data['cluster'] == 3]"
   ]
  },
  {
   "cell_type": "code",
   "execution_count": 79,
   "metadata": {},
   "outputs": [],
   "source": [
    "account_indices_of_Type =[]\n",
    "for t in range(kmeans.n_clusters):\n",
    "    account_indices_of_Type.append(list(user_data[user_data['cluster'] == t]['account index']))"
   ]
  },
  {
   "cell_type": "code",
   "execution_count": 80,
   "metadata": {
    "scrolled": true
   },
   "outputs": [
    {
     "name": "stdout",
     "output_type": "stream",
     "text": [
      "Stored 'account_indices_of_Type' (list)\n"
     ]
    }
   ],
   "source": [
    "%store account_indices_of_Type"
   ]
  },
  {
   "cell_type": "code",
   "execution_count": 81,
   "metadata": {
    "scrolled": true
   },
   "outputs": [
    {
     "data": {
      "text/html": [
       "<div>\n",
       "<style scoped>\n",
       "    .dataframe tbody tr th:only-of-type {\n",
       "        vertical-align: middle;\n",
       "    }\n",
       "\n",
       "    .dataframe tbody tr th {\n",
       "        vertical-align: top;\n",
       "    }\n",
       "\n",
       "    .dataframe thead th {\n",
       "        text-align: right;\n",
       "    }\n",
       "</style>\n",
       "<table border=\"1\" class=\"dataframe\">\n",
       "  <thead>\n",
       "    <tr style=\"text-align: right;\">\n",
       "      <th></th>\n",
       "      <th>AccountType1</th>\n",
       "      <th>AccountType2</th>\n",
       "      <th>AccountType3</th>\n",
       "      <th>AccountType4</th>\n",
       "    </tr>\n",
       "  </thead>\n",
       "  <tbody>\n",
       "    <tr>\n",
       "      <th>Action</th>\n",
       "      <td>43.320755</td>\n",
       "      <td>153.535714</td>\n",
       "      <td>441.604651</td>\n",
       "      <td>283.970588</td>\n",
       "    </tr>\n",
       "    <tr>\n",
       "      <th>Adventure</th>\n",
       "      <td>20.872117</td>\n",
       "      <td>85.443878</td>\n",
       "      <td>241.209302</td>\n",
       "      <td>163.367647</td>\n",
       "    </tr>\n",
       "    <tr>\n",
       "      <th>Animation</th>\n",
       "      <td>4.194969</td>\n",
       "      <td>23.744898</td>\n",
       "      <td>61.511628</td>\n",
       "      <td>52.852941</td>\n",
       "    </tr>\n",
       "    <tr>\n",
       "      <th>Children</th>\n",
       "      <td>8.259958</td>\n",
       "      <td>42.020408</td>\n",
       "      <td>124.697674</td>\n",
       "      <td>96.250000</td>\n",
       "    </tr>\n",
       "    <tr>\n",
       "      <th>Comedy</th>\n",
       "      <td>44.249476</td>\n",
       "      <td>172.132653</td>\n",
       "      <td>541.651163</td>\n",
       "      <td>339.941176</td>\n",
       "    </tr>\n",
       "    <tr>\n",
       "      <th>Crime</th>\n",
       "      <td>16.660377</td>\n",
       "      <td>47.295918</td>\n",
       "      <td>141.744186</td>\n",
       "      <td>87.441176</td>\n",
       "    </tr>\n",
       "    <tr>\n",
       "      <th>Documentary</th>\n",
       "      <td>1.287212</td>\n",
       "      <td>4.285714</td>\n",
       "      <td>16.813953</td>\n",
       "      <td>8.926471</td>\n",
       "    </tr>\n",
       "    <tr>\n",
       "      <th>Drama</th>\n",
       "      <td>77.452830</td>\n",
       "      <td>245.448980</td>\n",
       "      <td>727.581395</td>\n",
       "      <td>452.485294</td>\n",
       "    </tr>\n",
       "    <tr>\n",
       "      <th>Fantasy</th>\n",
       "      <td>1.394130</td>\n",
       "      <td>7.673469</td>\n",
       "      <td>25.534884</td>\n",
       "      <td>15.882353</td>\n",
       "    </tr>\n",
       "    <tr>\n",
       "      <th>Film-Noir</th>\n",
       "      <td>3.392034</td>\n",
       "      <td>10.892857</td>\n",
       "      <td>37.953488</td>\n",
       "      <td>20.750000</td>\n",
       "    </tr>\n",
       "    <tr>\n",
       "      <th>Horror</th>\n",
       "      <td>7.821803</td>\n",
       "      <td>26.831633</td>\n",
       "      <td>110.139535</td>\n",
       "      <td>55.426471</td>\n",
       "    </tr>\n",
       "    <tr>\n",
       "      <th>Musical</th>\n",
       "      <td>5.144654</td>\n",
       "      <td>32.168367</td>\n",
       "      <td>94.209302</td>\n",
       "      <td>68.161765</td>\n",
       "    </tr>\n",
       "    <tr>\n",
       "      <th>Mystery</th>\n",
       "      <td>12.287212</td>\n",
       "      <td>29.219388</td>\n",
       "      <td>89.139535</td>\n",
       "      <td>53.838235</td>\n",
       "    </tr>\n",
       "    <tr>\n",
       "      <th>Romance</th>\n",
       "      <td>36.538784</td>\n",
       "      <td>119.739796</td>\n",
       "      <td>343.604651</td>\n",
       "      <td>217.779412</td>\n",
       "    </tr>\n",
       "    <tr>\n",
       "      <th>Sci-Fi</th>\n",
       "      <td>21.557652</td>\n",
       "      <td>81.107143</td>\n",
       "      <td>219.837209</td>\n",
       "      <td>142.573529</td>\n",
       "    </tr>\n",
       "    <tr>\n",
       "      <th>Thriller</th>\n",
       "      <td>43.454927</td>\n",
       "      <td>123.423469</td>\n",
       "      <td>375.581395</td>\n",
       "      <td>230.588235</td>\n",
       "    </tr>\n",
       "    <tr>\n",
       "      <th>War</th>\n",
       "      <td>18.842767</td>\n",
       "      <td>61.923469</td>\n",
       "      <td>162.209302</td>\n",
       "      <td>114.132353</td>\n",
       "    </tr>\n",
       "    <tr>\n",
       "      <th>Western</th>\n",
       "      <td>1.763103</td>\n",
       "      <td>11.602041</td>\n",
       "      <td>40.093023</td>\n",
       "      <td>27.352941</td>\n",
       "    </tr>\n",
       "  </tbody>\n",
       "</table>\n",
       "</div>"
      ],
      "text/plain": [
       "             AccountType1  AccountType2  AccountType3  AccountType4\n",
       "Action          43.320755    153.535714    441.604651    283.970588\n",
       "Adventure       20.872117     85.443878    241.209302    163.367647\n",
       "Animation        4.194969     23.744898     61.511628     52.852941\n",
       "Children         8.259958     42.020408    124.697674     96.250000\n",
       "Comedy          44.249476    172.132653    541.651163    339.941176\n",
       "Crime           16.660377     47.295918    141.744186     87.441176\n",
       "Documentary      1.287212      4.285714     16.813953      8.926471\n",
       "Drama           77.452830    245.448980    727.581395    452.485294\n",
       "Fantasy          1.394130      7.673469     25.534884     15.882353\n",
       "Film-Noir        3.392034     10.892857     37.953488     20.750000\n",
       "Horror           7.821803     26.831633    110.139535     55.426471\n",
       "Musical          5.144654     32.168367     94.209302     68.161765\n",
       "Mystery         12.287212     29.219388     89.139535     53.838235\n",
       "Romance         36.538784    119.739796    343.604651    217.779412\n",
       "Sci-Fi          21.557652     81.107143    219.837209    142.573529\n",
       "Thriller        43.454927    123.423469    375.581395    230.588235\n",
       "War             18.842767     61.923469    162.209302    114.132353\n",
       "Western          1.763103     11.602041     40.093023     27.352941"
      ]
     },
     "execution_count": 81,
     "metadata": {},
     "output_type": "execute_result"
    }
   ],
   "source": [
    "W_clustered = centroids.transpose()\n",
    "W_clustered"
   ]
  },
  {
   "cell_type": "code",
   "execution_count": 84,
   "metadata": {},
   "outputs": [],
   "source": [
    "from sklearn.preprocessing import normalize\n",
    "\n",
    "# Normalize the matrix so that each row has a unit sum\n",
    "W_clustered_normal = normalize(W_clustered, axis=1, norm='l1')\n",
    "\n",
    "pd.DataFrame(W_clustered_normal).to_csv('W_accounts_clustered_normal.csv')"
   ]
  },
  {
   "cell_type": "code",
   "execution_count": 83,
   "metadata": {},
   "outputs": [
    {
     "data": {
      "text/plain": [
       "array([[0.04696364, 0.1664467 , 0.47873967, 0.30784999],\n",
       "       [0.04085419, 0.16724419, 0.47213277, 0.31976885],\n",
       "       [0.02947883, 0.16685986, 0.43225376, 0.37140755],\n",
       "       [0.03045392, 0.15492649, 0.45975215, 0.35486744],\n",
       "       [0.04030101, 0.15677291, 0.49331854, 0.30960754],\n",
       "       [0.05683388, 0.16134151, 0.48353478, 0.29828983],\n",
       "       [0.04110744, 0.1368654 , 0.53695799, 0.28506917],\n",
       "       [0.05153324, 0.16330946, 0.48409624, 0.30106106],\n",
       "       [0.02761483, 0.15199553, 0.50579314, 0.3145965 ],\n",
       "       [0.04647361, 0.14924098, 0.51999358, 0.28429183],\n",
       "       [0.03906615, 0.13401113, 0.55009411, 0.27682862],\n",
       "       [0.02576397, 0.1610963 , 0.47179173, 0.341348  ],\n",
       "       [0.066603  , 0.15838408, 0.48318204, 0.29183088],\n",
       "       [0.05091359, 0.16684691, 0.47878297, 0.30345653],\n",
       "       [0.04635301, 0.17439563, 0.47269141, 0.30655994],\n",
       "       [0.05621245, 0.15965822, 0.48584484, 0.29828449],\n",
       "       [0.05276491, 0.17340269, 0.45423052, 0.31960188],\n",
       "       [0.02181758, 0.14356988, 0.49613258, 0.33847997]])"
      ]
     },
     "execution_count": 83,
     "metadata": {},
     "output_type": "execute_result"
    }
   ],
   "source": [
    "W_clustered_normal"
   ]
  },
  {
   "cell_type": "code",
   "execution_count": null,
   "metadata": {},
   "outputs": [],
   "source": []
  }
 ],
 "metadata": {
  "kernelspec": {
   "display_name": "Python 3",
   "language": "python",
   "name": "python3"
  },
  "language_info": {
   "codemirror_mode": {
    "name": "ipython",
    "version": 3
   },
   "file_extension": ".py",
   "mimetype": "text/x-python",
   "name": "python",
   "nbconvert_exporter": "python",
   "pygments_lexer": "ipython3",
   "version": "3.8.5"
  }
 },
 "nbformat": 4,
 "nbformat_minor": 2
}
